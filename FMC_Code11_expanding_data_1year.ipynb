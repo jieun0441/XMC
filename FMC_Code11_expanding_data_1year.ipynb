{
  "nbformat": 4,
  "nbformat_minor": 0,
  "metadata": {
    "colab": {
      "provenance": [],
      "gpuType": "V6E1",
      "mount_file_id": "1yUYG4D6FcNm5qr4EXbMSO1aPPKpQ3Laq",
      "authorship_tag": "ABX9TyM3eeoyY7gzDoFidL5mSXRM",
      "include_colab_link": true
    },
    "kernelspec": {
      "name": "python3",
      "display_name": "Python 3"
    },
    "language_info": {
      "name": "python"
    },
    "accelerator": "TPU"
  },
  "cells": [
    {
      "cell_type": "markdown",
      "metadata": {
        "id": "view-in-github",
        "colab_type": "text"
      },
      "source": [
        "<a href=\"https://colab.research.google.com/github/jieun0441/XMC/blob/main/FMC_Code11_expanding_data_1year.ipynb\" target=\"_parent\"><img src=\"https://colab.research.google.com/assets/colab-badge.svg\" alt=\"Open In Colab\"/></a>"
      ]
    },
    {
      "cell_type": "code",
      "source": [
        "# Setting to use a GPU\n",
        "gpu_info = !nvidia-smi\n",
        "gpu_info = '\\n'.join(gpu_info)\n",
        "if gpu_info.find('failed') >= 0:\n",
        "  print('Not connected to a GPU')\n",
        "else:\n",
        "  print(gpu_info)"
      ],
      "metadata": {
        "colab": {
          "base_uri": "https://localhost:8080/"
        },
        "id": "2xUbcJ9ENWWX",
        "outputId": "0cfea57d-98fe-4cf5-dd39-735f4afe6fc5"
      },
      "execution_count": null,
      "outputs": [
        {
          "output_type": "stream",
          "name": "stdout",
          "text": [
            "/bin/bash: line 1: nvidia-smi: command not found\n"
          ]
        }
      ]
    },
    {
      "cell_type": "code",
      "source": [
        "# Setting to Use a High-RAM\n",
        "from psutil import virtual_memory\n",
        "ram_gb = virtual_memory().total / 1e9\n",
        "print('Your runtime has {:.1f} gigabytes of available RAM\\n'.format(ram_gb))\n",
        "\n",
        "if ram_gb < 20:\n",
        "  print('Not using a high-RAM runtime')\n",
        "else:\n",
        "  print('You are using a high-RAM runtime!')"
      ],
      "metadata": {
        "colab": {
          "base_uri": "https://localhost:8080/"
        },
        "id": "Uxqi6wpPVjdV",
        "outputId": "7c6ad3e8-aa50-4b00-f20a-318cc0e4d9c4"
      },
      "execution_count": null,
      "outputs": [
        {
          "output_type": "stream",
          "name": "stdout",
          "text": [
            "Your runtime has 185.7 gigabytes of available RAM\n",
            "\n",
            "You are using a high-RAM runtime!\n"
          ]
        }
      ]
    },
    {
      "cell_type": "markdown",
      "source": [
        "Key features of this code:\n",
        "\n",
        "- Handles each month in a loop.\n",
        "- For each month, reads all zipped CSVs, preprocesses and accumulates data in memory (grouped by purpose).\n",
        "- After the month is loaded, adds OD indicator columns and removes duplicates.\n",
        "- Saves only the final \"purpose_X_with_OD_indicators.csv\" file for each purpose in each month."
      ],
      "metadata": {
        "id": "Ak0OeO86aFdU"
      }
    },
    {
      "cell_type": "code",
      "source": [
        "import os\n",
        "import pandas as pd\n",
        "import zipfile\n",
        "from pathlib import Path\n"
      ],
      "metadata": {
        "id": "DF49Y1r4VxMJ"
      },
      "execution_count": null,
      "outputs": []
    },
    {
      "cell_type": "code",
      "source": [
        "# === Settings ===\n",
        "root_folder = Path('/content/drive/MyDrive/FMC_Data/M_B_dong_raw_2023')\n",
        "output_root = Path('/content/drive/MyDrive/FMC_Data/M_B_dong_data_by_purpose_domestic_residents')\n",
        "output_root.mkdir(exist_ok=True)\n",
        "\n",
        "months = [f'M{str(m).zfill(2)}' for m in range(1, 13)]\n",
        "\n",
        "for month in months:\n",
        "    folder_path = root_folder / month\n",
        "    output_folder = output_root / month\n",
        "    output_folder.mkdir(exist_ok=True)\n",
        "    print(f'Processing {month} ...')\n",
        "\n",
        "    # Get date range for the month\n",
        "    year = 2023\n",
        "    month_num = int(month[1:])\n",
        "    start_date = pd.Timestamp(year, month_num, 1)\n",
        "    end_date = (start_date + pd.offsets.MonthEnd(1))\n",
        "    date_range = pd.date_range(start_date, end_date)\n",
        "\n",
        "    # Collect data for each purpose in a list (by purpose)\n",
        "    purpose_data = {purpose: [] for purpose in range(1, 8)}\n",
        "\n",
        "    for date in date_range:\n",
        "        date_str = date.strftime('%Y%m%d')\n",
        "        zip_name = f'seoul_purpose_admdong3_{date_str}.zip'\n",
        "        zip_path = folder_path / zip_name\n",
        "        if zip_path.is_file():\n",
        "            with zipfile.ZipFile(zip_path) as z:\n",
        "                # Assume only one CSV in the zip\n",
        "                csv_name = z.namelist()[0]\n",
        "                with z.open(csv_name) as f:\n",
        "                    df = pd.read_csv(f, dtype={0: str, 1: str}, low_memory=False)\n",
        "\n",
        "                # Clean data\n",
        "                df = df[(df['O_ADMDONG_CD'] != '\\\\N') & (df['O_ADMDONG_CD'].notnull()) &\n",
        "                        (df['D_ADMDONG_CD'] != '\\\\N') & (df['D_ADMDONG_CD'].notnull())]\n",
        "\n",
        "                df.loc[:, 'O_ADMDONG_CD'] = df['O_ADMDONG_CD'].fillna(0).astype(int)\n",
        "                df.loc[:, 'D_ADMDONG_CD'] = df['D_ADMDONG_CD'].fillna(0).astype(int)\n",
        "                df = df[(df['O_ADMDONG_CD'] != 0) & (df['D_ADMDONG_CD'] != 0)]\n",
        "\n",
        "                df = df[df['IN_FORN_DIV_NM'] == \"내국인\"].copy()\n",
        "                df.loc[:, 'date'] = date\n",
        "\n",
        "                for purpose in range(1, 8):\n",
        "                    df_purpose = df[df['MOVE_PURPOSE'] == purpose]\n",
        "                    if not df_purpose.empty:\n",
        "                        purpose_data[purpose].append(df_purpose)\n",
        "        else:\n",
        "            print(f\"File not found: {zip_path}\")\n",
        "\n",
        "    # After collecting all data for the month, process and save by purpose\n",
        "    for purpose in range(1, 8):\n",
        "        if not purpose_data[purpose]:\n",
        "            continue\n",
        "\n",
        "        df_purpose_month = pd.concat(purpose_data[purpose], ignore_index=True)\n",
        "\n",
        "        # Ensure codes are strings with at least two digits\n",
        "        df_purpose_month['O_ADMDONG_CD'] = df_purpose_month['O_ADMDONG_CD'].astype(str).str.zfill(2)\n",
        "        df_purpose_month['D_ADMDONG_CD'] = df_purpose_month['D_ADMDONG_CD'].astype(str).str.zfill(2)\n",
        "\n",
        "        # Create indicator variables\n",
        "        df_purpose_month['O_Seoul'] = df_purpose_month['O_ADMDONG_CD'].str[:2].eq('11').astype(int)\n",
        "        df_purpose_month['D_Seoul'] = df_purpose_month['D_ADMDONG_CD'].str[:2].eq('11').astype(int)\n",
        "        df_purpose_month['O_SMA'] = df_purpose_month['O_ADMDONG_CD'].str[:2].isin(['11', '23', '31']).astype(int)\n",
        "        df_purpose_month['D_SMA'] = df_purpose_month['D_ADMDONG_CD'].str[:2].isin(['11', '23', '31']).astype(int)\n",
        "\n",
        "        # Remove duplicate rows\n",
        "        df_purpose_month = df_purpose_month.drop_duplicates()\n",
        "\n",
        "        new_file_path = output_folder / f'purpose_{purpose}_with_OD_indicators.csv'\n",
        "        df_purpose_month.to_csv(new_file_path, index=False)\n",
        "        print(f'Saved as {new_file_path}')"
      ],
      "metadata": {
        "colab": {
          "base_uri": "https://localhost:8080/"
        },
        "id": "JeM7R--qVUkJ",
        "outputId": "663da289-b85d-4850-cd45-79cfca62cebe"
      },
      "execution_count": null,
      "outputs": [
        {
          "output_type": "stream",
          "name": "stdout",
          "text": [
            "Processing M01 ...\n",
            "Saved as /content/drive/MyDrive/FMC_Data/M_B_dong_data_by_purpose_domestic_residents/M01/purpose_1_with_OD_indicators.csv\n",
            "Saved as /content/drive/MyDrive/FMC_Data/M_B_dong_data_by_purpose_domestic_residents/M01/purpose_2_with_OD_indicators.csv\n",
            "Saved as /content/drive/MyDrive/FMC_Data/M_B_dong_data_by_purpose_domestic_residents/M01/purpose_3_with_OD_indicators.csv\n",
            "Saved as /content/drive/MyDrive/FMC_Data/M_B_dong_data_by_purpose_domestic_residents/M01/purpose_4_with_OD_indicators.csv\n",
            "Saved as /content/drive/MyDrive/FMC_Data/M_B_dong_data_by_purpose_domestic_residents/M01/purpose_5_with_OD_indicators.csv\n",
            "Saved as /content/drive/MyDrive/FMC_Data/M_B_dong_data_by_purpose_domestic_residents/M01/purpose_6_with_OD_indicators.csv\n",
            "Saved as /content/drive/MyDrive/FMC_Data/M_B_dong_data_by_purpose_domestic_residents/M01/purpose_7_with_OD_indicators.csv\n",
            "Processing M02 ...\n",
            "Saved as /content/drive/MyDrive/FMC_Data/M_B_dong_data_by_purpose_domestic_residents/M02/purpose_1_with_OD_indicators.csv\n",
            "Saved as /content/drive/MyDrive/FMC_Data/M_B_dong_data_by_purpose_domestic_residents/M02/purpose_2_with_OD_indicators.csv\n",
            "Saved as /content/drive/MyDrive/FMC_Data/M_B_dong_data_by_purpose_domestic_residents/M02/purpose_3_with_OD_indicators.csv\n",
            "Saved as /content/drive/MyDrive/FMC_Data/M_B_dong_data_by_purpose_domestic_residents/M02/purpose_4_with_OD_indicators.csv\n",
            "Saved as /content/drive/MyDrive/FMC_Data/M_B_dong_data_by_purpose_domestic_residents/M02/purpose_5_with_OD_indicators.csv\n",
            "Saved as /content/drive/MyDrive/FMC_Data/M_B_dong_data_by_purpose_domestic_residents/M02/purpose_6_with_OD_indicators.csv\n",
            "Saved as /content/drive/MyDrive/FMC_Data/M_B_dong_data_by_purpose_domestic_residents/M02/purpose_7_with_OD_indicators.csv\n",
            "Processing M03 ...\n",
            "File not found: /content/drive/MyDrive/FMC_Data/M_B_dong_raw_2023/M03/seoul_purpose_admdong3_20230301.zip\n",
            "File not found: /content/drive/MyDrive/FMC_Data/M_B_dong_raw_2023/M03/seoul_purpose_admdong3_20230302.zip\n",
            "File not found: /content/drive/MyDrive/FMC_Data/M_B_dong_raw_2023/M03/seoul_purpose_admdong3_20230303.zip\n",
            "File not found: /content/drive/MyDrive/FMC_Data/M_B_dong_raw_2023/M03/seoul_purpose_admdong3_20230304.zip\n",
            "File not found: /content/drive/MyDrive/FMC_Data/M_B_dong_raw_2023/M03/seoul_purpose_admdong3_20230305.zip\n",
            "File not found: /content/drive/MyDrive/FMC_Data/M_B_dong_raw_2023/M03/seoul_purpose_admdong3_20230306.zip\n",
            "File not found: /content/drive/MyDrive/FMC_Data/M_B_dong_raw_2023/M03/seoul_purpose_admdong3_20230307.zip\n",
            "File not found: /content/drive/MyDrive/FMC_Data/M_B_dong_raw_2023/M03/seoul_purpose_admdong3_20230308.zip\n",
            "File not found: /content/drive/MyDrive/FMC_Data/M_B_dong_raw_2023/M03/seoul_purpose_admdong3_20230309.zip\n",
            "File not found: /content/drive/MyDrive/FMC_Data/M_B_dong_raw_2023/M03/seoul_purpose_admdong3_20230310.zip\n",
            "File not found: /content/drive/MyDrive/FMC_Data/M_B_dong_raw_2023/M03/seoul_purpose_admdong3_20230311.zip\n",
            "File not found: /content/drive/MyDrive/FMC_Data/M_B_dong_raw_2023/M03/seoul_purpose_admdong3_20230312.zip\n",
            "File not found: /content/drive/MyDrive/FMC_Data/M_B_dong_raw_2023/M03/seoul_purpose_admdong3_20230313.zip\n",
            "File not found: /content/drive/MyDrive/FMC_Data/M_B_dong_raw_2023/M03/seoul_purpose_admdong3_20230314.zip\n",
            "File not found: /content/drive/MyDrive/FMC_Data/M_B_dong_raw_2023/M03/seoul_purpose_admdong3_20230315.zip\n",
            "File not found: /content/drive/MyDrive/FMC_Data/M_B_dong_raw_2023/M03/seoul_purpose_admdong3_20230316.zip\n",
            "File not found: /content/drive/MyDrive/FMC_Data/M_B_dong_raw_2023/M03/seoul_purpose_admdong3_20230317.zip\n",
            "File not found: /content/drive/MyDrive/FMC_Data/M_B_dong_raw_2023/M03/seoul_purpose_admdong3_20230318.zip\n",
            "File not found: /content/drive/MyDrive/FMC_Data/M_B_dong_raw_2023/M03/seoul_purpose_admdong3_20230319.zip\n",
            "File not found: /content/drive/MyDrive/FMC_Data/M_B_dong_raw_2023/M03/seoul_purpose_admdong3_20230320.zip\n",
            "File not found: /content/drive/MyDrive/FMC_Data/M_B_dong_raw_2023/M03/seoul_purpose_admdong3_20230321.zip\n",
            "File not found: /content/drive/MyDrive/FMC_Data/M_B_dong_raw_2023/M03/seoul_purpose_admdong3_20230322.zip\n",
            "File not found: /content/drive/MyDrive/FMC_Data/M_B_dong_raw_2023/M03/seoul_purpose_admdong3_20230323.zip\n",
            "File not found: /content/drive/MyDrive/FMC_Data/M_B_dong_raw_2023/M03/seoul_purpose_admdong3_20230324.zip\n",
            "File not found: /content/drive/MyDrive/FMC_Data/M_B_dong_raw_2023/M03/seoul_purpose_admdong3_20230325.zip\n",
            "File not found: /content/drive/MyDrive/FMC_Data/M_B_dong_raw_2023/M03/seoul_purpose_admdong3_20230326.zip\n",
            "File not found: /content/drive/MyDrive/FMC_Data/M_B_dong_raw_2023/M03/seoul_purpose_admdong3_20230327.zip\n",
            "File not found: /content/drive/MyDrive/FMC_Data/M_B_dong_raw_2023/M03/seoul_purpose_admdong3_20230328.zip\n",
            "File not found: /content/drive/MyDrive/FMC_Data/M_B_dong_raw_2023/M03/seoul_purpose_admdong3_20230329.zip\n",
            "File not found: /content/drive/MyDrive/FMC_Data/M_B_dong_raw_2023/M03/seoul_purpose_admdong3_20230330.zip\n",
            "File not found: /content/drive/MyDrive/FMC_Data/M_B_dong_raw_2023/M03/seoul_purpose_admdong3_20230331.zip\n",
            "Processing M04 ...\n",
            "Saved as /content/drive/MyDrive/FMC_Data/M_B_dong_data_by_purpose_domestic_residents/M04/purpose_1_with_OD_indicators.csv\n",
            "Saved as /content/drive/MyDrive/FMC_Data/M_B_dong_data_by_purpose_domestic_residents/M04/purpose_2_with_OD_indicators.csv\n",
            "Saved as /content/drive/MyDrive/FMC_Data/M_B_dong_data_by_purpose_domestic_residents/M04/purpose_3_with_OD_indicators.csv\n",
            "Saved as /content/drive/MyDrive/FMC_Data/M_B_dong_data_by_purpose_domestic_residents/M04/purpose_4_with_OD_indicators.csv\n",
            "Saved as /content/drive/MyDrive/FMC_Data/M_B_dong_data_by_purpose_domestic_residents/M04/purpose_5_with_OD_indicators.csv\n",
            "Saved as /content/drive/MyDrive/FMC_Data/M_B_dong_data_by_purpose_domestic_residents/M04/purpose_6_with_OD_indicators.csv\n",
            "Saved as /content/drive/MyDrive/FMC_Data/M_B_dong_data_by_purpose_domestic_residents/M04/purpose_7_with_OD_indicators.csv\n",
            "Processing M05 ...\n",
            "Saved as /content/drive/MyDrive/FMC_Data/M_B_dong_data_by_purpose_domestic_residents/M05/purpose_1_with_OD_indicators.csv\n",
            "Saved as /content/drive/MyDrive/FMC_Data/M_B_dong_data_by_purpose_domestic_residents/M05/purpose_2_with_OD_indicators.csv\n",
            "Saved as /content/drive/MyDrive/FMC_Data/M_B_dong_data_by_purpose_domestic_residents/M05/purpose_3_with_OD_indicators.csv\n",
            "Saved as /content/drive/MyDrive/FMC_Data/M_B_dong_data_by_purpose_domestic_residents/M05/purpose_4_with_OD_indicators.csv\n",
            "Saved as /content/drive/MyDrive/FMC_Data/M_B_dong_data_by_purpose_domestic_residents/M05/purpose_5_with_OD_indicators.csv\n",
            "Saved as /content/drive/MyDrive/FMC_Data/M_B_dong_data_by_purpose_domestic_residents/M05/purpose_6_with_OD_indicators.csv\n",
            "Saved as /content/drive/MyDrive/FMC_Data/M_B_dong_data_by_purpose_domestic_residents/M05/purpose_7_with_OD_indicators.csv\n",
            "Processing M06 ...\n",
            "Saved as /content/drive/MyDrive/FMC_Data/M_B_dong_data_by_purpose_domestic_residents/M06/purpose_1_with_OD_indicators.csv\n",
            "Saved as /content/drive/MyDrive/FMC_Data/M_B_dong_data_by_purpose_domestic_residents/M06/purpose_2_with_OD_indicators.csv\n",
            "Saved as /content/drive/MyDrive/FMC_Data/M_B_dong_data_by_purpose_domestic_residents/M06/purpose_3_with_OD_indicators.csv\n",
            "Saved as /content/drive/MyDrive/FMC_Data/M_B_dong_data_by_purpose_domestic_residents/M06/purpose_4_with_OD_indicators.csv\n",
            "Saved as /content/drive/MyDrive/FMC_Data/M_B_dong_data_by_purpose_domestic_residents/M06/purpose_5_with_OD_indicators.csv\n",
            "Saved as /content/drive/MyDrive/FMC_Data/M_B_dong_data_by_purpose_domestic_residents/M06/purpose_6_with_OD_indicators.csv\n",
            "Saved as /content/drive/MyDrive/FMC_Data/M_B_dong_data_by_purpose_domestic_residents/M06/purpose_7_with_OD_indicators.csv\n",
            "Processing M07 ...\n",
            "Saved as /content/drive/MyDrive/FMC_Data/M_B_dong_data_by_purpose_domestic_residents/M07/purpose_1_with_OD_indicators.csv\n",
            "Saved as /content/drive/MyDrive/FMC_Data/M_B_dong_data_by_purpose_domestic_residents/M07/purpose_2_with_OD_indicators.csv\n",
            "Saved as /content/drive/MyDrive/FMC_Data/M_B_dong_data_by_purpose_domestic_residents/M07/purpose_3_with_OD_indicators.csv\n",
            "Saved as /content/drive/MyDrive/FMC_Data/M_B_dong_data_by_purpose_domestic_residents/M07/purpose_4_with_OD_indicators.csv\n",
            "Saved as /content/drive/MyDrive/FMC_Data/M_B_dong_data_by_purpose_domestic_residents/M07/purpose_5_with_OD_indicators.csv\n",
            "Saved as /content/drive/MyDrive/FMC_Data/M_B_dong_data_by_purpose_domestic_residents/M07/purpose_6_with_OD_indicators.csv\n",
            "Saved as /content/drive/MyDrive/FMC_Data/M_B_dong_data_by_purpose_domestic_residents/M07/purpose_7_with_OD_indicators.csv\n",
            "Processing M08 ...\n",
            "Saved as /content/drive/MyDrive/FMC_Data/M_B_dong_data_by_purpose_domestic_residents/M08/purpose_1_with_OD_indicators.csv\n",
            "Saved as /content/drive/MyDrive/FMC_Data/M_B_dong_data_by_purpose_domestic_residents/M08/purpose_2_with_OD_indicators.csv\n",
            "Saved as /content/drive/MyDrive/FMC_Data/M_B_dong_data_by_purpose_domestic_residents/M08/purpose_3_with_OD_indicators.csv\n",
            "Saved as /content/drive/MyDrive/FMC_Data/M_B_dong_data_by_purpose_domestic_residents/M08/purpose_4_with_OD_indicators.csv\n",
            "Saved as /content/drive/MyDrive/FMC_Data/M_B_dong_data_by_purpose_domestic_residents/M08/purpose_5_with_OD_indicators.csv\n",
            "Saved as /content/drive/MyDrive/FMC_Data/M_B_dong_data_by_purpose_domestic_residents/M08/purpose_6_with_OD_indicators.csv\n",
            "Saved as /content/drive/MyDrive/FMC_Data/M_B_dong_data_by_purpose_domestic_residents/M08/purpose_7_with_OD_indicators.csv\n",
            "Processing M09 ...\n",
            "Saved as /content/drive/MyDrive/FMC_Data/M_B_dong_data_by_purpose_domestic_residents/M09/purpose_1_with_OD_indicators.csv\n",
            "Saved as /content/drive/MyDrive/FMC_Data/M_B_dong_data_by_purpose_domestic_residents/M09/purpose_2_with_OD_indicators.csv\n",
            "Saved as /content/drive/MyDrive/FMC_Data/M_B_dong_data_by_purpose_domestic_residents/M09/purpose_3_with_OD_indicators.csv\n",
            "Saved as /content/drive/MyDrive/FMC_Data/M_B_dong_data_by_purpose_domestic_residents/M09/purpose_4_with_OD_indicators.csv\n",
            "Saved as /content/drive/MyDrive/FMC_Data/M_B_dong_data_by_purpose_domestic_residents/M09/purpose_5_with_OD_indicators.csv\n",
            "Saved as /content/drive/MyDrive/FMC_Data/M_B_dong_data_by_purpose_domestic_residents/M09/purpose_6_with_OD_indicators.csv\n",
            "Saved as /content/drive/MyDrive/FMC_Data/M_B_dong_data_by_purpose_domestic_residents/M09/purpose_7_with_OD_indicators.csv\n",
            "Processing M10 ...\n",
            "Saved as /content/drive/MyDrive/FMC_Data/M_B_dong_data_by_purpose_domestic_residents/M10/purpose_1_with_OD_indicators.csv\n",
            "Saved as /content/drive/MyDrive/FMC_Data/M_B_dong_data_by_purpose_domestic_residents/M10/purpose_2_with_OD_indicators.csv\n",
            "Saved as /content/drive/MyDrive/FMC_Data/M_B_dong_data_by_purpose_domestic_residents/M10/purpose_3_with_OD_indicators.csv\n",
            "Saved as /content/drive/MyDrive/FMC_Data/M_B_dong_data_by_purpose_domestic_residents/M10/purpose_4_with_OD_indicators.csv\n",
            "Saved as /content/drive/MyDrive/FMC_Data/M_B_dong_data_by_purpose_domestic_residents/M10/purpose_5_with_OD_indicators.csv\n",
            "Saved as /content/drive/MyDrive/FMC_Data/M_B_dong_data_by_purpose_domestic_residents/M10/purpose_6_with_OD_indicators.csv\n",
            "Saved as /content/drive/MyDrive/FMC_Data/M_B_dong_data_by_purpose_domestic_residents/M10/purpose_7_with_OD_indicators.csv\n",
            "Processing M11 ...\n",
            "Saved as /content/drive/MyDrive/FMC_Data/M_B_dong_data_by_purpose_domestic_residents/M11/purpose_1_with_OD_indicators.csv\n",
            "Saved as /content/drive/MyDrive/FMC_Data/M_B_dong_data_by_purpose_domestic_residents/M11/purpose_2_with_OD_indicators.csv\n",
            "Saved as /content/drive/MyDrive/FMC_Data/M_B_dong_data_by_purpose_domestic_residents/M11/purpose_3_with_OD_indicators.csv\n",
            "Saved as /content/drive/MyDrive/FMC_Data/M_B_dong_data_by_purpose_domestic_residents/M11/purpose_4_with_OD_indicators.csv\n",
            "Saved as /content/drive/MyDrive/FMC_Data/M_B_dong_data_by_purpose_domestic_residents/M11/purpose_5_with_OD_indicators.csv\n",
            "Saved as /content/drive/MyDrive/FMC_Data/M_B_dong_data_by_purpose_domestic_residents/M11/purpose_6_with_OD_indicators.csv\n",
            "Saved as /content/drive/MyDrive/FMC_Data/M_B_dong_data_by_purpose_domestic_residents/M11/purpose_7_with_OD_indicators.csv\n",
            "Processing M12 ...\n",
            "Saved as /content/drive/MyDrive/FMC_Data/M_B_dong_data_by_purpose_domestic_residents/M12/purpose_1_with_OD_indicators.csv\n",
            "Saved as /content/drive/MyDrive/FMC_Data/M_B_dong_data_by_purpose_domestic_residents/M12/purpose_2_with_OD_indicators.csv\n",
            "Saved as /content/drive/MyDrive/FMC_Data/M_B_dong_data_by_purpose_domestic_residents/M12/purpose_3_with_OD_indicators.csv\n",
            "Saved as /content/drive/MyDrive/FMC_Data/M_B_dong_data_by_purpose_domestic_residents/M12/purpose_4_with_OD_indicators.csv\n",
            "Saved as /content/drive/MyDrive/FMC_Data/M_B_dong_data_by_purpose_domestic_residents/M12/purpose_5_with_OD_indicators.csv\n",
            "Saved as /content/drive/MyDrive/FMC_Data/M_B_dong_data_by_purpose_domestic_residents/M12/purpose_6_with_OD_indicators.csv\n",
            "Saved as /content/drive/MyDrive/FMC_Data/M_B_dong_data_by_purpose_domestic_residents/M12/purpose_7_with_OD_indicators.csv\n"
          ]
        }
      ]
    },
    {
      "cell_type": "code",
      "source": [],
      "metadata": {
        "id": "uHMvK7DXQrHh"
      },
      "execution_count": null,
      "outputs": []
    }
  ]
}