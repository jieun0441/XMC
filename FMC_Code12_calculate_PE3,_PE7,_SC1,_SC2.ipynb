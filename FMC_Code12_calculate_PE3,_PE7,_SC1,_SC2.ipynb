{
  "nbformat": 4,
  "nbformat_minor": 0,
  "metadata": {
    "colab": {
      "provenance": [],
      "toc_visible": true,
      "gpuType": "V6E1",
      "mount_file_id": "14YVmQfzWL3X09w9Dxxko33G5knBDOFz7",
      "authorship_tag": "ABX9TyNQeyOjypeZwnEls5X4EXec",
      "include_colab_link": true
    },
    "kernelspec": {
      "name": "python3",
      "display_name": "Python 3"
    },
    "language_info": {
      "name": "python"
    },
    "accelerator": "TPU"
  },
  "cells": [
    {
      "cell_type": "markdown",
      "metadata": {
        "id": "view-in-github",
        "colab_type": "text"
      },
      "source": [
        "<a href=\"https://colab.research.google.com/github/jieun0441/XMC/blob/main/FMC_Code12_calculate_PE3%2C_PE7%2C_SC1%2C_SC2.ipynb\" target=\"_parent\"><img src=\"https://colab.research.google.com/assets/colab-badge.svg\" alt=\"Open In Colab\"/></a>"
      ]
    },
    {
      "cell_type": "code",
      "source": [
        "from google.colab import drive\n",
        "drive.mount('/content/drive')"
      ],
      "metadata": {
        "colab": {
          "base_uri": "https://localhost:8080/"
        },
        "id": "T66oAMFgJnLY",
        "outputId": "7a9ca0c9-7c9e-4f20-d332-eac96807671e"
      },
      "execution_count": null,
      "outputs": [
        {
          "output_type": "stream",
          "name": "stdout",
          "text": [
            "Drive already mounted at /content/drive; to attempt to forcibly remount, call drive.mount(\"/content/drive\", force_remount=True).\n"
          ]
        }
      ]
    },
    {
      "cell_type": "code",
      "source": [
        "# Setting to use a GPU\n",
        "gpu_info = !nvidia-smi\n",
        "gpu_info = '\\n'.join(gpu_info)\n",
        "if gpu_info.find('failed') >= 0:\n",
        "  print('Not connected to a GPU')\n",
        "else:\n",
        "  print(gpu_info)"
      ],
      "metadata": {
        "colab": {
          "base_uri": "https://localhost:8080/"
        },
        "id": "LoYnWd9Sq7Bf",
        "outputId": "3da074ef-dcee-4c4d-b98c-d6dbbfe68bfb"
      },
      "execution_count": null,
      "outputs": [
        {
          "output_type": "stream",
          "name": "stdout",
          "text": [
            "/bin/bash: line 1: nvidia-smi: command not found\n"
          ]
        }
      ]
    },
    {
      "cell_type": "code",
      "source": [
        "# Setting to Use a High-RAM\n",
        "from psutil import virtual_memory\n",
        "ram_gb = virtual_memory().total / 1e9\n",
        "print('Your runtime has {:.1f} gigabytes of available RAM\\n'.format(ram_gb))\n",
        "\n",
        "if ram_gb < 20:\n",
        "  print('Not using a high-RAM runtime')\n",
        "else:\n",
        "  print('You are using a high-RAM runtime!')"
      ],
      "metadata": {
        "colab": {
          "base_uri": "https://localhost:8080/"
        },
        "id": "m98DMQsYsnEl",
        "outputId": "f1d72f11-0476-4948-c5ce-c73dcebc3b1c"
      },
      "execution_count": null,
      "outputs": [
        {
          "output_type": "stream",
          "name": "stdout",
          "text": [
            "Your runtime has 185.7 gigabytes of available RAM\n",
            "\n",
            "You are using a high-RAM runtime!\n"
          ]
        }
      ]
    },
    {
      "cell_type": "markdown",
      "source": [
        "일원2동이 개포3동으로 명칭이 변경되면서 동 코드도 변경된 사실을 확인.\n",
        "이에 일원2동 동 코드 1168740으로 기재되어 있었던 경우, 개포3동 동코드 1168075로 변경해서 합쳐줄 필요 있음"
      ],
      "metadata": {
        "id": "Q5jSQNqwVIgQ"
      }
    },
    {
      "cell_type": "code",
      "source": [
        "# dong code 중에 개포3동(11680675)이 몇개 있고, 일원2동(11680740)이 몇개 있는지 확인\n",
        "import pandas as pd\n",
        "# 1월 데이터 중 사이즈 작은 파일 하나를 활용해서 어떤 컬럼명 확인\n",
        "dfM01_p5 = pd.read_csv(\"/content/drive/MyDrive/FMC_Data/M_B_dong_data_by_purpose_domestic_residents/M01/purpose_5_with_OD_indicators.csv\")\n",
        "dfM01_p5.columns"
      ],
      "metadata": {
        "colab": {
          "base_uri": "https://localhost:8080/"
        },
        "id": "nHbNPrSxQuzd",
        "outputId": "2347819e-afb7-4ada-80b3-6117e243b631"
      },
      "execution_count": null,
      "outputs": [
        {
          "output_type": "execute_result",
          "data": {
            "text/plain": [
              "Index(['O_ADMDONG_CD', 'D_ADMDONG_CD', 'ST_TIME_CD', 'FNS_TIME_CD',\n",
              "       'IN_FORN_DIV_NM', 'FORN_CITIZ_NM', 'MOVE_PURPOSE', 'MOVE_DIST',\n",
              "       'MOVE_TIME', 'CNT', 'ETL_YMD', 'date', 'O_Seoul', 'D_Seoul', 'O_SMA',\n",
              "       'D_SMA'],\n",
              "      dtype='object')"
            ]
          },
          "metadata": {},
          "execution_count": 5
        }
      ]
    },
    {
      "cell_type": "code",
      "source": [
        "#  각 월(M01~M12) 폴더의 purpose_5_with_OD_indicators.csv 파일에서\n",
        "# 'O_ADMDONG_CD'와 'D_ADMDONG_CD' 컬럼에 대해 각각 11680675(개포3동)와 11680740(일원2동)이 몇 번 등장하는지 카운트하는 코드\n",
        "import os\n",
        "import pandas as pd\n",
        "\n",
        "base_path = '/content/drive/MyDrive/FMC_Data/M_B_dong_data_by_purpose_domestic_residents'\n",
        "months = [f'M{str(i).zfill(2)}' for i in range(1, 13)]\n",
        "target_codes = [11680675, 11680740]\n",
        "result = []\n",
        "\n",
        "for month in months:\n",
        "    file_path = os.path.join(base_path, month, 'purpose_5_with_OD_indicators.csv')\n",
        "    if not os.path.exists(file_path):\n",
        "        print(f\"{file_path} 파일이 없습니다.\")\n",
        "        continue\n",
        "\n",
        "    df = pd.read_csv(file_path, usecols=['O_ADMDONG_CD', 'D_ADMDONG_CD'])\n",
        "    for code in target_codes:\n",
        "        o_count = (df['O_ADMDONG_CD'] == code).sum()\n",
        "        d_count = (df['D_ADMDONG_CD'] == code).sum()\n",
        "        result.append({'Month': month, 'Code': code, 'O_ADMDONG_CD_Count': o_count, 'D_ADMDONG_CD_Count': d_count})\n",
        "\n",
        "# 결과를 데이터프레임으로 보기 좋게 출력\n",
        "result_df = pd.DataFrame(result)\n",
        "print(result_df)"
      ],
      "metadata": {
        "colab": {
          "base_uri": "https://localhost:8080/"
        },
        "id": "c5-N5opQSmxw",
        "outputId": "47cf73c9-bb04-4cb8-9b1c-9df7dc29171c"
      },
      "execution_count": null,
      "outputs": [
        {
          "output_type": "stream",
          "name": "stdout",
          "text": [
            "   Month      Code  O_ADMDONG_CD_Count  D_ADMDONG_CD_Count\n",
            "0    M01  11680675                   0                   0\n",
            "1    M01  11680740                  23                   0\n",
            "2    M02  11680675                  21                   0\n",
            "3    M02  11680740                   0                   0\n",
            "4    M03  11680675                  20                   0\n",
            "5    M03  11680740                   0                   0\n",
            "6    M04  11680675                  22                   0\n",
            "7    M04  11680740                   0                   0\n",
            "8    M05  11680675                  20                   0\n",
            "9    M05  11680740                   0                   0\n",
            "10   M06  11680675                  15                   0\n",
            "11   M06  11680740                   0                   0\n",
            "12   M07  11680675                  22                   0\n",
            "13   M07  11680740                   0                   0\n",
            "14   M08  11680675                  19                   0\n",
            "15   M08  11680740                   0                   0\n",
            "16   M09  11680675                  25                   0\n",
            "17   M09  11680740                   0                   0\n",
            "18   M10  11680675                  13                   0\n",
            "19   M10  11680740                   0                   0\n",
            "20   M11  11680675                  12                   0\n",
            "21   M11  11680740                   0                   0\n",
            "22   M12  11680675                  17                   0\n",
            "23   M12  11680740                   0                   0\n"
          ]
        }
      ]
    },
    {
      "cell_type": "markdown",
      "source": [
        "확인 결과, 위 결과처럼 1월에만 일원2동의 코드가 사용되었던 것으로 확인됨.\n",
        "이에 일원2동 코드를 개포3동 코드로 변경 후 Index 계산 진행함.\n",
        "아래 코드는 M01 폴더 안에 있는 모든 7개 파일에 대해 O_ADMDONG_CD와 D_ADMDONG_CD 값이 11680740이면 11680675로 바꿔서 덮어쓰는 코드"
      ],
      "metadata": {
        "id": "8QVUK5KpVsLB"
      }
    },
    {
      "cell_type": "code",
      "source": [
        "import os\n",
        "import pandas as pd\n",
        "\n",
        "folder = '/content/drive/MyDrive/FMC_Data/M_B_dong_data_by_purpose_domestic_residents/M01'\n",
        "purpose_files = [f'purpose_{i}_with_OD_indicators.csv' for i in range(1, 8)]  # 1~7\n",
        "\n",
        "for fname in purpose_files:\n",
        "    file_path = os.path.join(folder, fname)\n",
        "    if not os.path.exists(file_path):\n",
        "        print(f'파일 없음: {file_path}')\n",
        "        continue\n",
        "\n",
        "    df = pd.read_csv(file_path)\n",
        "    # 값 변경\n",
        "    df['O_ADMDONG_CD'] = df['O_ADMDONG_CD'].replace(11680740, 11680675)\n",
        "    df['D_ADMDONG_CD'] = df['D_ADMDONG_CD'].replace(11680740, 11680675)\n",
        "    # 덮어쓰기 저장\n",
        "    df.to_csv(file_path, index=False)\n",
        "    print(f'변경 및 저장 완료: {file_path}')"
      ],
      "metadata": {
        "colab": {
          "base_uri": "https://localhost:8080/"
        },
        "id": "vGufRGMsUCNo",
        "outputId": "ed0a76ac-a270-4c31-9f48-7aa02745c740"
      },
      "execution_count": null,
      "outputs": [
        {
          "output_type": "stream",
          "name": "stdout",
          "text": [
            "변경 및 저장 완료: /content/drive/MyDrive/FMC_Data/M_B_dong_data_by_purpose_domestic_residents/M01/purpose_1_with_OD_indicators.csv\n",
            "변경 및 저장 완료: /content/drive/MyDrive/FMC_Data/M_B_dong_data_by_purpose_domestic_residents/M01/purpose_2_with_OD_indicators.csv\n",
            "변경 및 저장 완료: /content/drive/MyDrive/FMC_Data/M_B_dong_data_by_purpose_domestic_residents/M01/purpose_3_with_OD_indicators.csv\n",
            "변경 및 저장 완료: /content/drive/MyDrive/FMC_Data/M_B_dong_data_by_purpose_domestic_residents/M01/purpose_4_with_OD_indicators.csv\n",
            "변경 및 저장 완료: /content/drive/MyDrive/FMC_Data/M_B_dong_data_by_purpose_domestic_residents/M01/purpose_5_with_OD_indicators.csv\n",
            "변경 및 저장 완료: /content/drive/MyDrive/FMC_Data/M_B_dong_data_by_purpose_domestic_residents/M01/purpose_6_with_OD_indicators.csv\n",
            "변경 및 저장 완료: /content/drive/MyDrive/FMC_Data/M_B_dong_data_by_purpose_domestic_residents/M01/purpose_7_with_OD_indicators.csv\n"
          ]
        }
      ]
    },
    {
      "cell_type": "markdown",
      "source": [
        "# Calculate PE & SC with 2023 1 year data"
      ],
      "metadata": {
        "id": "aFVB_vVa4XZ5"
      }
    },
    {
      "cell_type": "markdown",
      "source": [
        "- base_path: 데이터가 있는 최상위 경로를 지정합니다.\n",
        "- months: 'M01'부터 'M12'까지 월별 폴더명을 리스트로 만듭니다.\n",
        "- use_cols: 최종 데이터프레임에 남길 컬럼만 리스트로 지정합니다.\n",
        "- 각 월 폴더에서 목적별 파일을 찾아 읽고, 필요 없는 컬럼을 제거한 뒤 리스트에 저장합니다.\n",
        "- 마지막에 pd.concat()으로 리스트의 데이터프레임들을 하나로 병합합니다.\n",
        "- 파일이 없을 경우 메시지를 출력합니다."
      ],
      "metadata": {
        "id": "zcQnm-WbSvBI"
      }
    },
    {
      "cell_type": "code",
      "source": [
        "import pandas as pd\n",
        "import os\n",
        "#@title Nonwork intra Seoul trip data merge\n",
        "# 경로 및 설정\n",
        "base_path = '/content/drive/MyDrive/FMC_Data/M_B_dong_data_by_purpose_domestic_residents'\n",
        "months = [f'M{str(i).zfill(2)}' for i in range(1, 13)]\n",
        "# 필요한 컬럼만 남깁니다\n",
        "use_cols = [\n",
        "    'O_ADMDONG_CD', 'D_ADMDONG_CD', 'ST_TIME_CD', 'FNS_TIME_CD',\n",
        "    'MOVE_PURPOSE', 'MOVE_DIST', 'MOVE_TIME', 'CNT', 'ETL_YMD',\n",
        "    'O_Seoul', 'D_Seoul', 'O_SMA', 'D_SMA'\n",
        "]\n",
        "nonwork_purposes = [2, 4, 5, 6, 7]\n",
        "\n",
        "df_nonwork_intraSeoul_list = []\n",
        "\n",
        "for month in months:\n",
        "    month_path = os.path.join(base_path, month)\n",
        "    for p in nonwork_purposes:\n",
        "        file_path = os.path.join(month_path, f'purpose_{p}_with_OD_indicators.csv')\n",
        "        if os.path.exists(file_path):\n",
        "            # 필요한 컬럼만 읽어서 메모리 절약\n",
        "            df = pd.read_csv(file_path, usecols=use_cols)\n",
        "            # intra-Seoul 조건 바로 적용\n",
        "            df = df[(df['O_Seoul']==1) & (df['D_Seoul']==1)]\n",
        "            df_nonwork_intraSeoul_list.append(df)\n",
        "        else:\n",
        "            print(f\"파일 없음: {file_path}\")\n",
        "\n",
        "# concat 후 바로 저장 (메모리 절약 위해 df 만들고 바로 저장)\n",
        "df_nonwork_intraSeoul = pd.concat(df_nonwork_intraSeoul_list, ignore_index=True)\n",
        "df_nonwork_intraSeoul.to_csv('/content/drive/MyDrive/FMC_Data/M_B_dong_data_by_purpose_domestic_residents/df_nonwork_intraSeoul.csv', index=False)\n",
        "#del df_nonwork_intraSeoul, df_nonwork_intraSeoul_list\n",
        "print('df_nonwork_intraSeoul 저장 완료')"
      ],
      "metadata": {
        "colab": {
          "base_uri": "https://localhost:8080/"
        },
        "id": "MLsyN8jqgnzi",
        "outputId": "4215d043-b48a-4b9f-f805-d29e313ac334"
      },
      "execution_count": null,
      "outputs": [
        {
          "output_type": "stream",
          "name": "stdout",
          "text": [
            "df_nonwork_intraSeoul 저장 완료\n"
          ]
        }
      ]
    },
    {
      "cell_type": "code",
      "source": [
        "#@title Non-working trip PE SC 계산\n",
        "import pandas as pd\n",
        "import os\n",
        "\n",
        "# 저장 경로 설정\n",
        "save_folder = '/content/drive/MyDrive/FMC_Data/PE_and_SC_indices_Table'\n",
        "\n",
        "# ====== Non-working trip (intra-Seoul) ======\n",
        "# df_nonwork_intraSeoul = pd.read_csv('/content/drive/MyDrive/FMC_Data/M_B_dong_data_by_purpose_domestic_residents/df_nonwork_intraSeoul.csv')\n",
        "\n",
        "# --- Pull Effect Index (PE3) ---\n",
        "total_cnt_nonwork = df_nonwork_intraSeoul['CNT'].sum()\n",
        "pe_nonwork = (\n",
        "    df_nonwork_intraSeoul.groupby('D_ADMDONG_CD')['CNT'].sum()\n",
        "    .reset_index().rename(columns={'CNT': 'Numerator_PE3_CNT'})\n",
        ")\n",
        "pe_nonwork['PE3_Seoul'] = (pe_nonwork['Numerator_PE3_CNT'] / total_cnt_nonwork) * 100\n",
        "\n",
        "# 저장\n",
        "pe_nonwork.to_csv(os.path.join(save_folder, 'PE3_nonwork_by_dong_in_Seoul.csv'), index=False)"
      ],
      "metadata": {
        "id": "a9GPyxDLsMl4"
      },
      "execution_count": null,
      "outputs": []
    },
    {
      "cell_type": "code",
      "source": [
        "# --- Self-Containment Index (SC1) ---\n",
        "# Numerator: same dong\n",
        "same_dong_nonwork = df_nonwork_intraSeoul[df_nonwork_intraSeoul['O_ADMDONG_CD'] == df_nonwork_intraSeoul['D_ADMDONG_CD']]\n",
        "numerator_sc1 = same_dong_nonwork.groupby('O_ADMDONG_CD')['CNT'].sum().rename('Within_Same_Dong')\n",
        "# Denominator: all trips from origin dong\n",
        "denominator_sc1 = df_nonwork_intraSeoul.groupby('O_ADMDONG_CD')['CNT'].sum().rename('Total_Origin_Trips')\n",
        "# Merge and calculate\n",
        "sc1_nonwork = pd.concat([numerator_sc1, denominator_sc1], axis=1).fillna(0)\n",
        "sc1_nonwork['SC1'] = 100 * sc1_nonwork['Within_Same_Dong'] / sc1_nonwork['Total_Origin_Trips']\n",
        "sc1_nonwork = sc1_nonwork.reset_index().rename(columns={'O_ADMDONG_CD': 'ADMDONG_CD'})\n",
        "# 저장\n",
        "sc1_nonwork.to_csv(os.path.join(save_folder, 'SC1_nonwork_by_dong_in_Seoul.csv'), index=False)"
      ],
      "metadata": {
        "id": "S68FJqJl_TG2"
      },
      "execution_count": null,
      "outputs": []
    },
    {
      "cell_type": "code",
      "source": [
        "pe_nonwork"
      ],
      "metadata": {
        "colab": {
          "base_uri": "https://localhost:8080/",
          "height": 423
        },
        "id": "zmz3DZQoigUA",
        "outputId": "41aa3c58-40dc-4a22-a8de-aad508fe0096"
      },
      "execution_count": null,
      "outputs": [
        {
          "output_type": "execute_result",
          "data": {
            "text/plain": [
              "     D_ADMDONG_CD  Numerator_PE3_CNT  PE3_Seoul\n",
              "0        11110515         6429809.42   0.259180\n",
              "1        11110530        12896501.83   0.519847\n",
              "2        11110540         3242548.04   0.130704\n",
              "3        11110550         3311255.99   0.133474\n",
              "4        11110560         3609338.72   0.145489\n",
              "..            ...                ...        ...\n",
              "421      11740650         5052847.21   0.203676\n",
              "422      11740660         7684242.39   0.309745\n",
              "423      11740685        10452905.55   0.421348\n",
              "424      11740690         1278338.60   0.051529\n",
              "425      11740700         5315813.83   0.214276\n",
              "\n",
              "[426 rows x 3 columns]"
            ],
            "text/html": [
              "\n",
              "  <div id=\"df-0207a956-030f-4316-8d7f-4ac87b913e7f\" class=\"colab-df-container\">\n",
              "    <div>\n",
              "<style scoped>\n",
              "    .dataframe tbody tr th:only-of-type {\n",
              "        vertical-align: middle;\n",
              "    }\n",
              "\n",
              "    .dataframe tbody tr th {\n",
              "        vertical-align: top;\n",
              "    }\n",
              "\n",
              "    .dataframe thead th {\n",
              "        text-align: right;\n",
              "    }\n",
              "</style>\n",
              "<table border=\"1\" class=\"dataframe\">\n",
              "  <thead>\n",
              "    <tr style=\"text-align: right;\">\n",
              "      <th></th>\n",
              "      <th>D_ADMDONG_CD</th>\n",
              "      <th>Numerator_PE3_CNT</th>\n",
              "      <th>PE3_Seoul</th>\n",
              "    </tr>\n",
              "  </thead>\n",
              "  <tbody>\n",
              "    <tr>\n",
              "      <th>0</th>\n",
              "      <td>11110515</td>\n",
              "      <td>6429809.42</td>\n",
              "      <td>0.259180</td>\n",
              "    </tr>\n",
              "    <tr>\n",
              "      <th>1</th>\n",
              "      <td>11110530</td>\n",
              "      <td>12896501.83</td>\n",
              "      <td>0.519847</td>\n",
              "    </tr>\n",
              "    <tr>\n",
              "      <th>2</th>\n",
              "      <td>11110540</td>\n",
              "      <td>3242548.04</td>\n",
              "      <td>0.130704</td>\n",
              "    </tr>\n",
              "    <tr>\n",
              "      <th>3</th>\n",
              "      <td>11110550</td>\n",
              "      <td>3311255.99</td>\n",
              "      <td>0.133474</td>\n",
              "    </tr>\n",
              "    <tr>\n",
              "      <th>4</th>\n",
              "      <td>11110560</td>\n",
              "      <td>3609338.72</td>\n",
              "      <td>0.145489</td>\n",
              "    </tr>\n",
              "    <tr>\n",
              "      <th>...</th>\n",
              "      <td>...</td>\n",
              "      <td>...</td>\n",
              "      <td>...</td>\n",
              "    </tr>\n",
              "    <tr>\n",
              "      <th>421</th>\n",
              "      <td>11740650</td>\n",
              "      <td>5052847.21</td>\n",
              "      <td>0.203676</td>\n",
              "    </tr>\n",
              "    <tr>\n",
              "      <th>422</th>\n",
              "      <td>11740660</td>\n",
              "      <td>7684242.39</td>\n",
              "      <td>0.309745</td>\n",
              "    </tr>\n",
              "    <tr>\n",
              "      <th>423</th>\n",
              "      <td>11740685</td>\n",
              "      <td>10452905.55</td>\n",
              "      <td>0.421348</td>\n",
              "    </tr>\n",
              "    <tr>\n",
              "      <th>424</th>\n",
              "      <td>11740690</td>\n",
              "      <td>1278338.60</td>\n",
              "      <td>0.051529</td>\n",
              "    </tr>\n",
              "    <tr>\n",
              "      <th>425</th>\n",
              "      <td>11740700</td>\n",
              "      <td>5315813.83</td>\n",
              "      <td>0.214276</td>\n",
              "    </tr>\n",
              "  </tbody>\n",
              "</table>\n",
              "<p>426 rows × 3 columns</p>\n",
              "</div>\n",
              "    <div class=\"colab-df-buttons\">\n",
              "\n",
              "  <div class=\"colab-df-container\">\n",
              "    <button class=\"colab-df-convert\" onclick=\"convertToInteractive('df-0207a956-030f-4316-8d7f-4ac87b913e7f')\"\n",
              "            title=\"Convert this dataframe to an interactive table.\"\n",
              "            style=\"display:none;\">\n",
              "\n",
              "  <svg xmlns=\"http://www.w3.org/2000/svg\" height=\"24px\" viewBox=\"0 -960 960 960\">\n",
              "    <path d=\"M120-120v-720h720v720H120Zm60-500h600v-160H180v160Zm220 220h160v-160H400v160Zm0 220h160v-160H400v160ZM180-400h160v-160H180v160Zm440 0h160v-160H620v160ZM180-180h160v-160H180v160Zm440 0h160v-160H620v160Z\"/>\n",
              "  </svg>\n",
              "    </button>\n",
              "\n",
              "  <style>\n",
              "    .colab-df-container {\n",
              "      display:flex;\n",
              "      gap: 12px;\n",
              "    }\n",
              "\n",
              "    .colab-df-convert {\n",
              "      background-color: #E8F0FE;\n",
              "      border: none;\n",
              "      border-radius: 50%;\n",
              "      cursor: pointer;\n",
              "      display: none;\n",
              "      fill: #1967D2;\n",
              "      height: 32px;\n",
              "      padding: 0 0 0 0;\n",
              "      width: 32px;\n",
              "    }\n",
              "\n",
              "    .colab-df-convert:hover {\n",
              "      background-color: #E2EBFA;\n",
              "      box-shadow: 0px 1px 2px rgba(60, 64, 67, 0.3), 0px 1px 3px 1px rgba(60, 64, 67, 0.15);\n",
              "      fill: #174EA6;\n",
              "    }\n",
              "\n",
              "    .colab-df-buttons div {\n",
              "      margin-bottom: 4px;\n",
              "    }\n",
              "\n",
              "    [theme=dark] .colab-df-convert {\n",
              "      background-color: #3B4455;\n",
              "      fill: #D2E3FC;\n",
              "    }\n",
              "\n",
              "    [theme=dark] .colab-df-convert:hover {\n",
              "      background-color: #434B5C;\n",
              "      box-shadow: 0px 1px 3px 1px rgba(0, 0, 0, 0.15);\n",
              "      filter: drop-shadow(0px 1px 2px rgba(0, 0, 0, 0.3));\n",
              "      fill: #FFFFFF;\n",
              "    }\n",
              "  </style>\n",
              "\n",
              "    <script>\n",
              "      const buttonEl =\n",
              "        document.querySelector('#df-0207a956-030f-4316-8d7f-4ac87b913e7f button.colab-df-convert');\n",
              "      buttonEl.style.display =\n",
              "        google.colab.kernel.accessAllowed ? 'block' : 'none';\n",
              "\n",
              "      async function convertToInteractive(key) {\n",
              "        const element = document.querySelector('#df-0207a956-030f-4316-8d7f-4ac87b913e7f');\n",
              "        const dataTable =\n",
              "          await google.colab.kernel.invokeFunction('convertToInteractive',\n",
              "                                                    [key], {});\n",
              "        if (!dataTable) return;\n",
              "\n",
              "        const docLinkHtml = 'Like what you see? Visit the ' +\n",
              "          '<a target=\"_blank\" href=https://colab.research.google.com/notebooks/data_table.ipynb>data table notebook</a>'\n",
              "          + ' to learn more about interactive tables.';\n",
              "        element.innerHTML = '';\n",
              "        dataTable['output_type'] = 'display_data';\n",
              "        await google.colab.output.renderOutput(dataTable, element);\n",
              "        const docLink = document.createElement('div');\n",
              "        docLink.innerHTML = docLinkHtml;\n",
              "        element.appendChild(docLink);\n",
              "      }\n",
              "    </script>\n",
              "  </div>\n",
              "\n",
              "\n",
              "    <div id=\"df-7b5c3d1b-5635-4973-9386-3cf10184c6bc\">\n",
              "      <button class=\"colab-df-quickchart\" onclick=\"quickchart('df-7b5c3d1b-5635-4973-9386-3cf10184c6bc')\"\n",
              "                title=\"Suggest charts\"\n",
              "                style=\"display:none;\">\n",
              "\n",
              "<svg xmlns=\"http://www.w3.org/2000/svg\" height=\"24px\"viewBox=\"0 0 24 24\"\n",
              "     width=\"24px\">\n",
              "    <g>\n",
              "        <path d=\"M19 3H5c-1.1 0-2 .9-2 2v14c0 1.1.9 2 2 2h14c1.1 0 2-.9 2-2V5c0-1.1-.9-2-2-2zM9 17H7v-7h2v7zm4 0h-2V7h2v10zm4 0h-2v-4h2v4z\"/>\n",
              "    </g>\n",
              "</svg>\n",
              "      </button>\n",
              "\n",
              "<style>\n",
              "  .colab-df-quickchart {\n",
              "      --bg-color: #E8F0FE;\n",
              "      --fill-color: #1967D2;\n",
              "      --hover-bg-color: #E2EBFA;\n",
              "      --hover-fill-color: #174EA6;\n",
              "      --disabled-fill-color: #AAA;\n",
              "      --disabled-bg-color: #DDD;\n",
              "  }\n",
              "\n",
              "  [theme=dark] .colab-df-quickchart {\n",
              "      --bg-color: #3B4455;\n",
              "      --fill-color: #D2E3FC;\n",
              "      --hover-bg-color: #434B5C;\n",
              "      --hover-fill-color: #FFFFFF;\n",
              "      --disabled-bg-color: #3B4455;\n",
              "      --disabled-fill-color: #666;\n",
              "  }\n",
              "\n",
              "  .colab-df-quickchart {\n",
              "    background-color: var(--bg-color);\n",
              "    border: none;\n",
              "    border-radius: 50%;\n",
              "    cursor: pointer;\n",
              "    display: none;\n",
              "    fill: var(--fill-color);\n",
              "    height: 32px;\n",
              "    padding: 0;\n",
              "    width: 32px;\n",
              "  }\n",
              "\n",
              "  .colab-df-quickchart:hover {\n",
              "    background-color: var(--hover-bg-color);\n",
              "    box-shadow: 0 1px 2px rgba(60, 64, 67, 0.3), 0 1px 3px 1px rgba(60, 64, 67, 0.15);\n",
              "    fill: var(--button-hover-fill-color);\n",
              "  }\n",
              "\n",
              "  .colab-df-quickchart-complete:disabled,\n",
              "  .colab-df-quickchart-complete:disabled:hover {\n",
              "    background-color: var(--disabled-bg-color);\n",
              "    fill: var(--disabled-fill-color);\n",
              "    box-shadow: none;\n",
              "  }\n",
              "\n",
              "  .colab-df-spinner {\n",
              "    border: 2px solid var(--fill-color);\n",
              "    border-color: transparent;\n",
              "    border-bottom-color: var(--fill-color);\n",
              "    animation:\n",
              "      spin 1s steps(1) infinite;\n",
              "  }\n",
              "\n",
              "  @keyframes spin {\n",
              "    0% {\n",
              "      border-color: transparent;\n",
              "      border-bottom-color: var(--fill-color);\n",
              "      border-left-color: var(--fill-color);\n",
              "    }\n",
              "    20% {\n",
              "      border-color: transparent;\n",
              "      border-left-color: var(--fill-color);\n",
              "      border-top-color: var(--fill-color);\n",
              "    }\n",
              "    30% {\n",
              "      border-color: transparent;\n",
              "      border-left-color: var(--fill-color);\n",
              "      border-top-color: var(--fill-color);\n",
              "      border-right-color: var(--fill-color);\n",
              "    }\n",
              "    40% {\n",
              "      border-color: transparent;\n",
              "      border-right-color: var(--fill-color);\n",
              "      border-top-color: var(--fill-color);\n",
              "    }\n",
              "    60% {\n",
              "      border-color: transparent;\n",
              "      border-right-color: var(--fill-color);\n",
              "    }\n",
              "    80% {\n",
              "      border-color: transparent;\n",
              "      border-right-color: var(--fill-color);\n",
              "      border-bottom-color: var(--fill-color);\n",
              "    }\n",
              "    90% {\n",
              "      border-color: transparent;\n",
              "      border-bottom-color: var(--fill-color);\n",
              "    }\n",
              "  }\n",
              "</style>\n",
              "\n",
              "      <script>\n",
              "        async function quickchart(key) {\n",
              "          const quickchartButtonEl =\n",
              "            document.querySelector('#' + key + ' button');\n",
              "          quickchartButtonEl.disabled = true;  // To prevent multiple clicks.\n",
              "          quickchartButtonEl.classList.add('colab-df-spinner');\n",
              "          try {\n",
              "            const charts = await google.colab.kernel.invokeFunction(\n",
              "                'suggestCharts', [key], {});\n",
              "          } catch (error) {\n",
              "            console.error('Error during call to suggestCharts:', error);\n",
              "          }\n",
              "          quickchartButtonEl.classList.remove('colab-df-spinner');\n",
              "          quickchartButtonEl.classList.add('colab-df-quickchart-complete');\n",
              "        }\n",
              "        (() => {\n",
              "          let quickchartButtonEl =\n",
              "            document.querySelector('#df-7b5c3d1b-5635-4973-9386-3cf10184c6bc button');\n",
              "          quickchartButtonEl.style.display =\n",
              "            google.colab.kernel.accessAllowed ? 'block' : 'none';\n",
              "        })();\n",
              "      </script>\n",
              "    </div>\n",
              "\n",
              "  <div id=\"id_3abd8ddb-063c-47af-9cde-26ad2298f2b5\">\n",
              "    <style>\n",
              "      .colab-df-generate {\n",
              "        background-color: #E8F0FE;\n",
              "        border: none;\n",
              "        border-radius: 50%;\n",
              "        cursor: pointer;\n",
              "        display: none;\n",
              "        fill: #1967D2;\n",
              "        height: 32px;\n",
              "        padding: 0 0 0 0;\n",
              "        width: 32px;\n",
              "      }\n",
              "\n",
              "      .colab-df-generate:hover {\n",
              "        background-color: #E2EBFA;\n",
              "        box-shadow: 0px 1px 2px rgba(60, 64, 67, 0.3), 0px 1px 3px 1px rgba(60, 64, 67, 0.15);\n",
              "        fill: #174EA6;\n",
              "      }\n",
              "\n",
              "      [theme=dark] .colab-df-generate {\n",
              "        background-color: #3B4455;\n",
              "        fill: #D2E3FC;\n",
              "      }\n",
              "\n",
              "      [theme=dark] .colab-df-generate:hover {\n",
              "        background-color: #434B5C;\n",
              "        box-shadow: 0px 1px 3px 1px rgba(0, 0, 0, 0.15);\n",
              "        filter: drop-shadow(0px 1px 2px rgba(0, 0, 0, 0.3));\n",
              "        fill: #FFFFFF;\n",
              "      }\n",
              "    </style>\n",
              "    <button class=\"colab-df-generate\" onclick=\"generateWithVariable('pe_nonwork')\"\n",
              "            title=\"Generate code using this dataframe.\"\n",
              "            style=\"display:none;\">\n",
              "\n",
              "  <svg xmlns=\"http://www.w3.org/2000/svg\" height=\"24px\"viewBox=\"0 0 24 24\"\n",
              "       width=\"24px\">\n",
              "    <path d=\"M7,19H8.4L18.45,9,17,7.55,7,17.6ZM5,21V16.75L18.45,3.32a2,2,0,0,1,2.83,0l1.4,1.43a1.91,1.91,0,0,1,.58,1.4,1.91,1.91,0,0,1-.58,1.4L9.25,21ZM18.45,9,17,7.55Zm-12,3A5.31,5.31,0,0,0,4.9,8.1,5.31,5.31,0,0,0,1,6.5,5.31,5.31,0,0,0,4.9,4.9,5.31,5.31,0,0,0,6.5,1,5.31,5.31,0,0,0,8.1,4.9,5.31,5.31,0,0,0,12,6.5,5.46,5.46,0,0,0,6.5,12Z\"/>\n",
              "  </svg>\n",
              "    </button>\n",
              "    <script>\n",
              "      (() => {\n",
              "      const buttonEl =\n",
              "        document.querySelector('#id_3abd8ddb-063c-47af-9cde-26ad2298f2b5 button.colab-df-generate');\n",
              "      buttonEl.style.display =\n",
              "        google.colab.kernel.accessAllowed ? 'block' : 'none';\n",
              "\n",
              "      buttonEl.onclick = () => {\n",
              "        google.colab.notebook.generateWithVariable('pe_nonwork');\n",
              "      }\n",
              "      })();\n",
              "    </script>\n",
              "  </div>\n",
              "\n",
              "    </div>\n",
              "  </div>\n"
            ],
            "application/vnd.google.colaboratory.intrinsic+json": {
              "type": "dataframe",
              "variable_name": "pe_nonwork",
              "summary": "{\n  \"name\": \"pe_nonwork\",\n  \"rows\": 426,\n  \"fields\": [\n    {\n      \"column\": \"D_ADMDONG_CD\",\n      \"properties\": {\n        \"dtype\": \"number\",\n        \"std\": 192077,\n        \"min\": 11110515,\n        \"max\": 11740700,\n        \"num_unique_values\": 426,\n        \"samples\": [\n          11740610,\n          11215840,\n          11380510\n        ],\n        \"semantic_type\": \"\",\n        \"description\": \"\"\n      }\n    },\n    {\n      \"column\": \"Numerator_PE3_CNT\",\n      \"properties\": {\n        \"dtype\": \"number\",\n        \"std\": 5284401.47292878,\n        \"min\": 577158.47,\n        \"max\": 41726161.6,\n        \"num_unique_values\": 426,\n        \"samples\": [\n          9800143.88,\n          8616708.76,\n          6393204.66\n        ],\n        \"semantic_type\": \"\",\n        \"description\": \"\"\n      }\n    },\n    {\n      \"column\": \"PE3_Seoul\",\n      \"properties\": {\n        \"dtype\": \"number\",\n        \"std\": 0.2130097667295091,\n        \"min\": 0.023264771174269425,\n        \"max\": 1.6819463839880717,\n        \"num_unique_values\": 426,\n        \"samples\": [\n          0.3950355347693623,\n          0.34733226314208443,\n          0.2577046880818937\n        ],\n        \"semantic_type\": \"\",\n        \"description\": \"\"\n      }\n    }\n  ]\n}"
            }
          },
          "metadata": {},
          "execution_count": 13
        }
      ]
    },
    {
      "cell_type": "code",
      "source": [
        "total_cnt_nonwork"
      ],
      "metadata": {
        "colab": {
          "base_uri": "https://localhost:8080/"
        },
        "id": "g0JSyn6AipgH",
        "outputId": "c8318d1a-fd84-439a-e3f4-9d2d6500f11b"
      },
      "execution_count": null,
      "outputs": [
        {
          "output_type": "execute_result",
          "data": {
            "text/plain": [
              "np.float64(2480825904.869981)"
            ]
          },
          "metadata": {},
          "execution_count": 14
        }
      ]
    },
    {
      "cell_type": "code",
      "source": [
        "#@title Work intra Seoul trip data merge\n",
        "import pandas as pd\n",
        "import os\n",
        "\n",
        "base_path = '/content/drive/MyDrive/FMC_Data/M_B_dong_data_by_purpose_domestic_residents'\n",
        "months = [f'M{str(i).zfill(2)}' for i in range(1, 13)]\n",
        "use_cols = [\n",
        "    'O_ADMDONG_CD', 'D_ADMDONG_CD', 'ST_TIME_CD', 'FNS_TIME_CD',\n",
        "    'MOVE_PURPOSE', 'MOVE_DIST', 'MOVE_TIME', 'CNT', 'ETL_YMD',\n",
        "    'O_Seoul', 'D_Seoul', 'O_SMA', 'D_SMA'\n",
        "]\n",
        "work_purposes = [1]\n",
        "\n",
        "df_work_intraSeoul_list = []\n",
        "\n",
        "for month in months:\n",
        "    month_path = os.path.join(base_path, month)\n",
        "    for p in work_purposes:\n",
        "        file_path = os.path.join(month_path, f'purpose_{p}_with_OD_indicators.csv')\n",
        "        if os.path.exists(file_path):\n",
        "            df = pd.read_csv(file_path, usecols=use_cols)\n",
        "            df = df[(df['O_Seoul']==1) & (df['D_Seoul']==1)]\n",
        "            df_work_intraSeoul_list.append(df)\n",
        "        else:\n",
        "            print(f\"파일 없음: {file_path}\")\n",
        "\n",
        "df_work_intraSeoul = pd.concat(df_work_intraSeoul_list, ignore_index=True)\n",
        "df_work_intraSeoul.to_csv('/content/drive/MyDrive/FMC_Data/M_B_dong_data_by_purpose_domestic_residents/df_work_intraSeoul.csv', index=False)\n",
        "#del df_work_intraSeoul, df_work_intraSeoul_list\n",
        "print('df_work_intraSeoul 저장 완료')"
      ],
      "metadata": {
        "colab": {
          "base_uri": "https://localhost:8080/"
        },
        "id": "TzqgezbZg4Rb",
        "outputId": "358804ba-bb17-4293-898f-16212cbb620c"
      },
      "execution_count": null,
      "outputs": [
        {
          "output_type": "stream",
          "name": "stdout",
          "text": [
            "df_work_intraSeoul 저장 완료\n"
          ]
        }
      ]
    },
    {
      "cell_type": "code",
      "source": [
        "import pandas as pd\n",
        "import os\n",
        "\n",
        "# 저장 경로 설정\n",
        "save_folder = '/content/drive/MyDrive/FMC_Data/PE_and_SC_indices_Table'\n",
        "\n",
        "#@title Working trip PE SC 계산\n",
        "# ====== Working trip (intra-Seoul) ======\n",
        "#df_work_intraSeoul = pd.read_csv(os.path.join(save_folder, 'df_work_intraSeoul.csv'))\n",
        "\n",
        "# --- Pull Effect Index (PE7) ---\n",
        "total_cnt_work = df_work_intraSeoul['CNT'].sum()\n",
        "pe_work = (\n",
        "    df_work_intraSeoul.groupby('D_ADMDONG_CD')['CNT'].sum()\n",
        "    .reset_index().rename(columns={'CNT': 'Numerator_CNT'})\n",
        ")\n",
        "pe_work['PE7_Seoul'] = (pe_work['Numerator_CNT'] / total_cnt_work) * 100\n",
        "\n",
        "# 저장\n",
        "pe_work.to_csv(os.path.join(save_folder, 'PE7_work_by_dong_in_Seoul.csv'), index=False)\n",
        "\n",
        "# --- Self-Containment Index (SC2) ---\n",
        "same_dong_work = df_work_intraSeoul[df_work_intraSeoul['O_ADMDONG_CD'] == df_work_intraSeoul['D_ADMDONG_CD']]\n",
        "numerator_sc2 = same_dong_work.groupby('O_ADMDONG_CD')['CNT'].sum().rename('Within_Same_Dong')\n",
        "denominator_sc2 = df_work_intraSeoul.groupby('O_ADMDONG_CD')['CNT'].sum().rename('Total_Origin_Trips')\n",
        "sc2_work = pd.concat([numerator_sc2, denominator_sc2], axis=1).fillna(0)\n",
        "sc2_work['SC2'] = 100 * sc2_work['Within_Same_Dong'] / sc2_work['Total_Origin_Trips']\n",
        "sc2_work = sc2_work.reset_index().rename(columns={'O_ADMDONG_CD': 'ADMDONG_CD'})\n",
        "sc2_work.to_csv(os.path.join(save_folder, 'SC2_work_by_dong_in_Seoul.csv'), index=False)"
      ],
      "metadata": {
        "id": "zQA6FRTnkZIG"
      },
      "execution_count": null,
      "outputs": []
    },
    {
      "cell_type": "code",
      "source": [
        "# df_PE3 = pd.read_csv('/content/drive/MyDrive/FMC_Data/PE3_nonwork_by_dong_in_Seoul.csv')\n",
        "# df_PE3.columns"
      ],
      "metadata": {
        "colab": {
          "base_uri": "https://localhost:8080/"
        },
        "id": "anYCDJq0Dnas",
        "outputId": "341475a4-7280-48a0-e160-31f0d7d22575"
      },
      "execution_count": null,
      "outputs": [
        {
          "output_type": "execute_result",
          "data": {
            "text/plain": [
              "Index(['D_ADMDONG_CD', 'Numerator_PE3_CNT', 'PE3_Seoul'], dtype='object')"
            ]
          },
          "metadata": {},
          "execution_count": 4
        }
      ]
    },
    {
      "cell_type": "code",
      "source": [
        "# df_PE7 = pd.read_csv('/content/drive/MyDrive/FMC_Data/PE7_work_by_dong_in_Seoul.csv')\n",
        "# df_PE7.columns"
      ],
      "metadata": {
        "colab": {
          "base_uri": "https://localhost:8080/"
        },
        "id": "DuMbSKLRD50W",
        "outputId": "545d5f50-343d-4652-eee1-dc6c93d0ea3c"
      },
      "execution_count": null,
      "outputs": [
        {
          "output_type": "execute_result",
          "data": {
            "text/plain": [
              "Index(['D_ADMDONG_CD', 'Numerator_CNT', 'PE7_Seoul'], dtype='object')"
            ]
          },
          "metadata": {},
          "execution_count": 5
        }
      ]
    },
    {
      "cell_type": "code",
      "source": [
        "# df_SC1 = pd.read_csv('/content/drive/MyDrive/FMC_Data/SC1_nonwork_by_dong_in_Seoul.csv')\n",
        "# df_SC1.columns"
      ],
      "metadata": {
        "colab": {
          "base_uri": "https://localhost:8080/"
        },
        "id": "nZLtR-96EFG9",
        "outputId": "7b0f65d5-fc99-427d-aa98-861a4911d83a"
      },
      "execution_count": null,
      "outputs": [
        {
          "output_type": "execute_result",
          "data": {
            "text/plain": [
              "Index(['ADMDONG_CD', 'Within_Same_Dong', 'Total_Origin_Trips', 'SC1'], dtype='object')"
            ]
          },
          "metadata": {},
          "execution_count": 7
        }
      ]
    },
    {
      "cell_type": "code",
      "source": [
        "# df_SC2 = pd.read_csv('/content/drive/MyDrive/FMC_Data/SC2_work_by_dong_in_Seoul.csv')\n",
        "# df_SC2.columns"
      ],
      "metadata": {
        "colab": {
          "base_uri": "https://localhost:8080/"
        },
        "id": "fSeiD_ymEgTb",
        "outputId": "8bead096-c115-4632-fb96-05226d3306e6"
      },
      "execution_count": null,
      "outputs": [
        {
          "output_type": "execute_result",
          "data": {
            "text/plain": [
              "Index(['ADMDONG_CD', 'Within_Same_Dong', 'Total_Origin_Trips', 'SC2'], dtype='object')"
            ]
          },
          "metadata": {},
          "execution_count": 8
        }
      ]
    },
    {
      "cell_type": "code",
      "source": [
        "# 저장 경로 설정\n",
        "save_folder = '/content/drive/MyDrive/FMC_Data/PE_and_SC_indices_Table'\n",
        "\n",
        "# Each entry: (filename, code_column, index_column)\n",
        "index_files = [\n",
        "    ('PE3_nonwork_by_dong_in_Seoul.csv', 'D_ADMDONG_CD', 'PE3_Seoul'),\n",
        "    ('PE7_work_by_dong_in_Seoul.csv', 'D_ADMDONG_CD', 'PE7_Seoul'),\n",
        "    ('SC1_nonwork_by_dong_in_Seoul.csv', 'ADMDONG_CD', 'SC1'),\n",
        "    ('SC2_work_by_dong_in_Seoul.csv', 'ADMDONG_CD', 'SC2')\n",
        "]\n",
        "\n",
        "# Read and prepare each DataFrame\n",
        "dfs = []\n",
        "for fname, code_col, index_col in index_files:\n",
        "    path = os.path.join(save_folder, fname)\n",
        "    df = pd.read_csv(path, usecols=[code_col, index_col])\n",
        "    df = df.rename(columns={code_col: 'ADMDONG_CD', index_col: index_col})  # standardize key name\n",
        "    dfs.append(df)\n",
        "\n",
        "# Merge all on 'ADMDONG_CD'\n",
        "from functools import reduce\n",
        "combined_df = reduce(lambda left, right: pd.merge(left, right, on='ADMDONG_CD', how='outer'), dfs)\n",
        "combined_df.to_csv(os.path.join(save_folder, 'Seoul_ADMDONG_indices_combined.csv'), index=False)\n",
        "combined_df"
      ],
      "metadata": {
        "colab": {
          "base_uri": "https://localhost:8080/",
          "height": 423
        },
        "id": "FjVm-W9GkskC",
        "outputId": "d2a6b353-1f36-4841-f707-1853bfd71221"
      },
      "execution_count": null,
      "outputs": [
        {
          "output_type": "execute_result",
          "data": {
            "text/plain": [
              "     ADMDONG_CD  PE3_Seoul  PE7_Seoul        SC1        SC2\n",
              "0      11110515   0.259180   0.154843  19.764209  12.682711\n",
              "1      11110530   0.519847   0.867687  15.432103  26.444967\n",
              "2      11110540   0.130704   0.091754   8.050622  12.606470\n",
              "3      11110550   0.133474   0.070045  19.036250   9.270658\n",
              "4      11110560   0.145489   0.081985  19.939680   9.782003\n",
              "..          ...        ...        ...        ...        ...\n",
              "421    11740650   0.203676   0.165426  17.916287  10.460896\n",
              "422    11740660   0.309745   0.239511  20.348462  13.106206\n",
              "423    11740685   0.421348   0.358944  26.846764  15.981620\n",
              "424    11740690   0.051529   0.037705   9.235021   4.615486\n",
              "425    11740700   0.214276   0.182995  26.173663  14.838861\n",
              "\n",
              "[426 rows x 5 columns]"
            ],
            "text/html": [
              "\n",
              "  <div id=\"df-94b8f482-10eb-4689-819d-c829883ed8c8\" class=\"colab-df-container\">\n",
              "    <div>\n",
              "<style scoped>\n",
              "    .dataframe tbody tr th:only-of-type {\n",
              "        vertical-align: middle;\n",
              "    }\n",
              "\n",
              "    .dataframe tbody tr th {\n",
              "        vertical-align: top;\n",
              "    }\n",
              "\n",
              "    .dataframe thead th {\n",
              "        text-align: right;\n",
              "    }\n",
              "</style>\n",
              "<table border=\"1\" class=\"dataframe\">\n",
              "  <thead>\n",
              "    <tr style=\"text-align: right;\">\n",
              "      <th></th>\n",
              "      <th>ADMDONG_CD</th>\n",
              "      <th>PE3_Seoul</th>\n",
              "      <th>PE7_Seoul</th>\n",
              "      <th>SC1</th>\n",
              "      <th>SC2</th>\n",
              "    </tr>\n",
              "  </thead>\n",
              "  <tbody>\n",
              "    <tr>\n",
              "      <th>0</th>\n",
              "      <td>11110515</td>\n",
              "      <td>0.259180</td>\n",
              "      <td>0.154843</td>\n",
              "      <td>19.764209</td>\n",
              "      <td>12.682711</td>\n",
              "    </tr>\n",
              "    <tr>\n",
              "      <th>1</th>\n",
              "      <td>11110530</td>\n",
              "      <td>0.519847</td>\n",
              "      <td>0.867687</td>\n",
              "      <td>15.432103</td>\n",
              "      <td>26.444967</td>\n",
              "    </tr>\n",
              "    <tr>\n",
              "      <th>2</th>\n",
              "      <td>11110540</td>\n",
              "      <td>0.130704</td>\n",
              "      <td>0.091754</td>\n",
              "      <td>8.050622</td>\n",
              "      <td>12.606470</td>\n",
              "    </tr>\n",
              "    <tr>\n",
              "      <th>3</th>\n",
              "      <td>11110550</td>\n",
              "      <td>0.133474</td>\n",
              "      <td>0.070045</td>\n",
              "      <td>19.036250</td>\n",
              "      <td>9.270658</td>\n",
              "    </tr>\n",
              "    <tr>\n",
              "      <th>4</th>\n",
              "      <td>11110560</td>\n",
              "      <td>0.145489</td>\n",
              "      <td>0.081985</td>\n",
              "      <td>19.939680</td>\n",
              "      <td>9.782003</td>\n",
              "    </tr>\n",
              "    <tr>\n",
              "      <th>...</th>\n",
              "      <td>...</td>\n",
              "      <td>...</td>\n",
              "      <td>...</td>\n",
              "      <td>...</td>\n",
              "      <td>...</td>\n",
              "    </tr>\n",
              "    <tr>\n",
              "      <th>421</th>\n",
              "      <td>11740650</td>\n",
              "      <td>0.203676</td>\n",
              "      <td>0.165426</td>\n",
              "      <td>17.916287</td>\n",
              "      <td>10.460896</td>\n",
              "    </tr>\n",
              "    <tr>\n",
              "      <th>422</th>\n",
              "      <td>11740660</td>\n",
              "      <td>0.309745</td>\n",
              "      <td>0.239511</td>\n",
              "      <td>20.348462</td>\n",
              "      <td>13.106206</td>\n",
              "    </tr>\n",
              "    <tr>\n",
              "      <th>423</th>\n",
              "      <td>11740685</td>\n",
              "      <td>0.421348</td>\n",
              "      <td>0.358944</td>\n",
              "      <td>26.846764</td>\n",
              "      <td>15.981620</td>\n",
              "    </tr>\n",
              "    <tr>\n",
              "      <th>424</th>\n",
              "      <td>11740690</td>\n",
              "      <td>0.051529</td>\n",
              "      <td>0.037705</td>\n",
              "      <td>9.235021</td>\n",
              "      <td>4.615486</td>\n",
              "    </tr>\n",
              "    <tr>\n",
              "      <th>425</th>\n",
              "      <td>11740700</td>\n",
              "      <td>0.214276</td>\n",
              "      <td>0.182995</td>\n",
              "      <td>26.173663</td>\n",
              "      <td>14.838861</td>\n",
              "    </tr>\n",
              "  </tbody>\n",
              "</table>\n",
              "<p>426 rows × 5 columns</p>\n",
              "</div>\n",
              "    <div class=\"colab-df-buttons\">\n",
              "\n",
              "  <div class=\"colab-df-container\">\n",
              "    <button class=\"colab-df-convert\" onclick=\"convertToInteractive('df-94b8f482-10eb-4689-819d-c829883ed8c8')\"\n",
              "            title=\"Convert this dataframe to an interactive table.\"\n",
              "            style=\"display:none;\">\n",
              "\n",
              "  <svg xmlns=\"http://www.w3.org/2000/svg\" height=\"24px\" viewBox=\"0 -960 960 960\">\n",
              "    <path d=\"M120-120v-720h720v720H120Zm60-500h600v-160H180v160Zm220 220h160v-160H400v160Zm0 220h160v-160H400v160ZM180-400h160v-160H180v160Zm440 0h160v-160H620v160ZM180-180h160v-160H180v160Zm440 0h160v-160H620v160Z\"/>\n",
              "  </svg>\n",
              "    </button>\n",
              "\n",
              "  <style>\n",
              "    .colab-df-container {\n",
              "      display:flex;\n",
              "      gap: 12px;\n",
              "    }\n",
              "\n",
              "    .colab-df-convert {\n",
              "      background-color: #E8F0FE;\n",
              "      border: none;\n",
              "      border-radius: 50%;\n",
              "      cursor: pointer;\n",
              "      display: none;\n",
              "      fill: #1967D2;\n",
              "      height: 32px;\n",
              "      padding: 0 0 0 0;\n",
              "      width: 32px;\n",
              "    }\n",
              "\n",
              "    .colab-df-convert:hover {\n",
              "      background-color: #E2EBFA;\n",
              "      box-shadow: 0px 1px 2px rgba(60, 64, 67, 0.3), 0px 1px 3px 1px rgba(60, 64, 67, 0.15);\n",
              "      fill: #174EA6;\n",
              "    }\n",
              "\n",
              "    .colab-df-buttons div {\n",
              "      margin-bottom: 4px;\n",
              "    }\n",
              "\n",
              "    [theme=dark] .colab-df-convert {\n",
              "      background-color: #3B4455;\n",
              "      fill: #D2E3FC;\n",
              "    }\n",
              "\n",
              "    [theme=dark] .colab-df-convert:hover {\n",
              "      background-color: #434B5C;\n",
              "      box-shadow: 0px 1px 3px 1px rgba(0, 0, 0, 0.15);\n",
              "      filter: drop-shadow(0px 1px 2px rgba(0, 0, 0, 0.3));\n",
              "      fill: #FFFFFF;\n",
              "    }\n",
              "  </style>\n",
              "\n",
              "    <script>\n",
              "      const buttonEl =\n",
              "        document.querySelector('#df-94b8f482-10eb-4689-819d-c829883ed8c8 button.colab-df-convert');\n",
              "      buttonEl.style.display =\n",
              "        google.colab.kernel.accessAllowed ? 'block' : 'none';\n",
              "\n",
              "      async function convertToInteractive(key) {\n",
              "        const element = document.querySelector('#df-94b8f482-10eb-4689-819d-c829883ed8c8');\n",
              "        const dataTable =\n",
              "          await google.colab.kernel.invokeFunction('convertToInteractive',\n",
              "                                                    [key], {});\n",
              "        if (!dataTable) return;\n",
              "\n",
              "        const docLinkHtml = 'Like what you see? Visit the ' +\n",
              "          '<a target=\"_blank\" href=https://colab.research.google.com/notebooks/data_table.ipynb>data table notebook</a>'\n",
              "          + ' to learn more about interactive tables.';\n",
              "        element.innerHTML = '';\n",
              "        dataTable['output_type'] = 'display_data';\n",
              "        await google.colab.output.renderOutput(dataTable, element);\n",
              "        const docLink = document.createElement('div');\n",
              "        docLink.innerHTML = docLinkHtml;\n",
              "        element.appendChild(docLink);\n",
              "      }\n",
              "    </script>\n",
              "  </div>\n",
              "\n",
              "\n",
              "    <div id=\"df-dc43184b-be30-4fb4-bc12-cdc1add1e0e5\">\n",
              "      <button class=\"colab-df-quickchart\" onclick=\"quickchart('df-dc43184b-be30-4fb4-bc12-cdc1add1e0e5')\"\n",
              "                title=\"Suggest charts\"\n",
              "                style=\"display:none;\">\n",
              "\n",
              "<svg xmlns=\"http://www.w3.org/2000/svg\" height=\"24px\"viewBox=\"0 0 24 24\"\n",
              "     width=\"24px\">\n",
              "    <g>\n",
              "        <path d=\"M19 3H5c-1.1 0-2 .9-2 2v14c0 1.1.9 2 2 2h14c1.1 0 2-.9 2-2V5c0-1.1-.9-2-2-2zM9 17H7v-7h2v7zm4 0h-2V7h2v10zm4 0h-2v-4h2v4z\"/>\n",
              "    </g>\n",
              "</svg>\n",
              "      </button>\n",
              "\n",
              "<style>\n",
              "  .colab-df-quickchart {\n",
              "      --bg-color: #E8F0FE;\n",
              "      --fill-color: #1967D2;\n",
              "      --hover-bg-color: #E2EBFA;\n",
              "      --hover-fill-color: #174EA6;\n",
              "      --disabled-fill-color: #AAA;\n",
              "      --disabled-bg-color: #DDD;\n",
              "  }\n",
              "\n",
              "  [theme=dark] .colab-df-quickchart {\n",
              "      --bg-color: #3B4455;\n",
              "      --fill-color: #D2E3FC;\n",
              "      --hover-bg-color: #434B5C;\n",
              "      --hover-fill-color: #FFFFFF;\n",
              "      --disabled-bg-color: #3B4455;\n",
              "      --disabled-fill-color: #666;\n",
              "  }\n",
              "\n",
              "  .colab-df-quickchart {\n",
              "    background-color: var(--bg-color);\n",
              "    border: none;\n",
              "    border-radius: 50%;\n",
              "    cursor: pointer;\n",
              "    display: none;\n",
              "    fill: var(--fill-color);\n",
              "    height: 32px;\n",
              "    padding: 0;\n",
              "    width: 32px;\n",
              "  }\n",
              "\n",
              "  .colab-df-quickchart:hover {\n",
              "    background-color: var(--hover-bg-color);\n",
              "    box-shadow: 0 1px 2px rgba(60, 64, 67, 0.3), 0 1px 3px 1px rgba(60, 64, 67, 0.15);\n",
              "    fill: var(--button-hover-fill-color);\n",
              "  }\n",
              "\n",
              "  .colab-df-quickchart-complete:disabled,\n",
              "  .colab-df-quickchart-complete:disabled:hover {\n",
              "    background-color: var(--disabled-bg-color);\n",
              "    fill: var(--disabled-fill-color);\n",
              "    box-shadow: none;\n",
              "  }\n",
              "\n",
              "  .colab-df-spinner {\n",
              "    border: 2px solid var(--fill-color);\n",
              "    border-color: transparent;\n",
              "    border-bottom-color: var(--fill-color);\n",
              "    animation:\n",
              "      spin 1s steps(1) infinite;\n",
              "  }\n",
              "\n",
              "  @keyframes spin {\n",
              "    0% {\n",
              "      border-color: transparent;\n",
              "      border-bottom-color: var(--fill-color);\n",
              "      border-left-color: var(--fill-color);\n",
              "    }\n",
              "    20% {\n",
              "      border-color: transparent;\n",
              "      border-left-color: var(--fill-color);\n",
              "      border-top-color: var(--fill-color);\n",
              "    }\n",
              "    30% {\n",
              "      border-color: transparent;\n",
              "      border-left-color: var(--fill-color);\n",
              "      border-top-color: var(--fill-color);\n",
              "      border-right-color: var(--fill-color);\n",
              "    }\n",
              "    40% {\n",
              "      border-color: transparent;\n",
              "      border-right-color: var(--fill-color);\n",
              "      border-top-color: var(--fill-color);\n",
              "    }\n",
              "    60% {\n",
              "      border-color: transparent;\n",
              "      border-right-color: var(--fill-color);\n",
              "    }\n",
              "    80% {\n",
              "      border-color: transparent;\n",
              "      border-right-color: var(--fill-color);\n",
              "      border-bottom-color: var(--fill-color);\n",
              "    }\n",
              "    90% {\n",
              "      border-color: transparent;\n",
              "      border-bottom-color: var(--fill-color);\n",
              "    }\n",
              "  }\n",
              "</style>\n",
              "\n",
              "      <script>\n",
              "        async function quickchart(key) {\n",
              "          const quickchartButtonEl =\n",
              "            document.querySelector('#' + key + ' button');\n",
              "          quickchartButtonEl.disabled = true;  // To prevent multiple clicks.\n",
              "          quickchartButtonEl.classList.add('colab-df-spinner');\n",
              "          try {\n",
              "            const charts = await google.colab.kernel.invokeFunction(\n",
              "                'suggestCharts', [key], {});\n",
              "          } catch (error) {\n",
              "            console.error('Error during call to suggestCharts:', error);\n",
              "          }\n",
              "          quickchartButtonEl.classList.remove('colab-df-spinner');\n",
              "          quickchartButtonEl.classList.add('colab-df-quickchart-complete');\n",
              "        }\n",
              "        (() => {\n",
              "          let quickchartButtonEl =\n",
              "            document.querySelector('#df-dc43184b-be30-4fb4-bc12-cdc1add1e0e5 button');\n",
              "          quickchartButtonEl.style.display =\n",
              "            google.colab.kernel.accessAllowed ? 'block' : 'none';\n",
              "        })();\n",
              "      </script>\n",
              "    </div>\n",
              "\n",
              "  <div id=\"id_6f53e614-c59b-410c-9cb7-d712980c30fc\">\n",
              "    <style>\n",
              "      .colab-df-generate {\n",
              "        background-color: #E8F0FE;\n",
              "        border: none;\n",
              "        border-radius: 50%;\n",
              "        cursor: pointer;\n",
              "        display: none;\n",
              "        fill: #1967D2;\n",
              "        height: 32px;\n",
              "        padding: 0 0 0 0;\n",
              "        width: 32px;\n",
              "      }\n",
              "\n",
              "      .colab-df-generate:hover {\n",
              "        background-color: #E2EBFA;\n",
              "        box-shadow: 0px 1px 2px rgba(60, 64, 67, 0.3), 0px 1px 3px 1px rgba(60, 64, 67, 0.15);\n",
              "        fill: #174EA6;\n",
              "      }\n",
              "\n",
              "      [theme=dark] .colab-df-generate {\n",
              "        background-color: #3B4455;\n",
              "        fill: #D2E3FC;\n",
              "      }\n",
              "\n",
              "      [theme=dark] .colab-df-generate:hover {\n",
              "        background-color: #434B5C;\n",
              "        box-shadow: 0px 1px 3px 1px rgba(0, 0, 0, 0.15);\n",
              "        filter: drop-shadow(0px 1px 2px rgba(0, 0, 0, 0.3));\n",
              "        fill: #FFFFFF;\n",
              "      }\n",
              "    </style>\n",
              "    <button class=\"colab-df-generate\" onclick=\"generateWithVariable('combined_df')\"\n",
              "            title=\"Generate code using this dataframe.\"\n",
              "            style=\"display:none;\">\n",
              "\n",
              "  <svg xmlns=\"http://www.w3.org/2000/svg\" height=\"24px\"viewBox=\"0 0 24 24\"\n",
              "       width=\"24px\">\n",
              "    <path d=\"M7,19H8.4L18.45,9,17,7.55,7,17.6ZM5,21V16.75L18.45,3.32a2,2,0,0,1,2.83,0l1.4,1.43a1.91,1.91,0,0,1,.58,1.4,1.91,1.91,0,0,1-.58,1.4L9.25,21ZM18.45,9,17,7.55Zm-12,3A5.31,5.31,0,0,0,4.9,8.1,5.31,5.31,0,0,0,1,6.5,5.31,5.31,0,0,0,4.9,4.9,5.31,5.31,0,0,0,6.5,1,5.31,5.31,0,0,0,8.1,4.9,5.31,5.31,0,0,0,12,6.5,5.46,5.46,0,0,0,6.5,12Z\"/>\n",
              "  </svg>\n",
              "    </button>\n",
              "    <script>\n",
              "      (() => {\n",
              "      const buttonEl =\n",
              "        document.querySelector('#id_6f53e614-c59b-410c-9cb7-d712980c30fc button.colab-df-generate');\n",
              "      buttonEl.style.display =\n",
              "        google.colab.kernel.accessAllowed ? 'block' : 'none';\n",
              "\n",
              "      buttonEl.onclick = () => {\n",
              "        google.colab.notebook.generateWithVariable('combined_df');\n",
              "      }\n",
              "      })();\n",
              "    </script>\n",
              "  </div>\n",
              "\n",
              "    </div>\n",
              "  </div>\n"
            ],
            "application/vnd.google.colaboratory.intrinsic+json": {
              "type": "dataframe",
              "variable_name": "combined_df",
              "summary": "{\n  \"name\": \"combined_df\",\n  \"rows\": 426,\n  \"fields\": [\n    {\n      \"column\": \"ADMDONG_CD\",\n      \"properties\": {\n        \"dtype\": \"number\",\n        \"std\": 192077,\n        \"min\": 11110515,\n        \"max\": 11740700,\n        \"num_unique_values\": 426,\n        \"samples\": [\n          11740610,\n          11215840,\n          11380510\n        ],\n        \"semantic_type\": \"\",\n        \"description\": \"\"\n      }\n    },\n    {\n      \"column\": \"PE3_Seoul\",\n      \"properties\": {\n        \"dtype\": \"number\",\n        \"std\": 0.21300976672950914,\n        \"min\": 0.0232647711742694,\n        \"max\": 1.6819463839880715,\n        \"num_unique_values\": 426,\n        \"samples\": [\n          0.3950355347693623,\n          0.3473322631420844,\n          0.2577046880818937\n        ],\n        \"semantic_type\": \"\",\n        \"description\": \"\"\n      }\n    },\n    {\n      \"column\": \"PE7_Seoul\",\n      \"properties\": {\n        \"dtype\": \"number\",\n        \"std\": 0.3309167336809869,\n        \"min\": 0.0174512708519777,\n        \"max\": 3.182655492738431,\n        \"num_unique_values\": 426,\n        \"samples\": [\n          0.2867193194737615,\n          0.2296704215757394,\n          0.2496306122184735\n        ],\n        \"semantic_type\": \"\",\n        \"description\": \"\"\n      }\n    },\n    {\n      \"column\": \"SC1\",\n      \"properties\": {\n        \"dtype\": \"number\",\n        \"std\": 6.746000162481649,\n        \"min\": 2.679877109145117,\n        \"max\": 53.86340803443117,\n        \"num_unique_values\": 426,\n        \"samples\": [\n          22.04789987599669,\n          21.112287289839145,\n          20.837080764353765\n        ],\n        \"semantic_type\": \"\",\n        \"description\": \"\"\n      }\n    },\n    {\n      \"column\": \"SC2\",\n      \"properties\": {\n        \"dtype\": \"number\",\n        \"std\": 6.069513670481529,\n        \"min\": 2.7561049706500285,\n        \"max\": 46.89706339360321,\n        \"num_unique_values\": 426,\n        \"samples\": [\n          11.001378383192902,\n          9.697161506223816,\n          10.991874214181484\n        ],\n        \"semantic_type\": \"\",\n        \"description\": \"\"\n      }\n    }\n  ]\n}"
            }
          },
          "metadata": {},
          "execution_count": 18
        }
      ]
    },
    {
      "cell_type": "code",
      "source": [],
      "metadata": {
        "id": "1wKEW99HP-K5"
      },
      "execution_count": null,
      "outputs": []
    },
    {
      "cell_type": "markdown",
      "source": [
        "# 참고: 기존 PE1~8 계산식1"
      ],
      "metadata": {
        "id": "kK2KvsgtV6Ca"
      }
    },
    {
      "cell_type": "code",
      "source": [
        "#@title PE1: nonworking(24567) PE(Seoul) (i != j)\n",
        "import pandas as pd\n",
        "import os\n",
        "\n",
        "folder = '/content/drive/MyDrive/FMC_Data/M-B_data_by_purpose_domestic_residents'\n",
        "files = [\n",
        "    'purpose_2_with_OD_indicators.csv',\n",
        "    'purpose_4_with_OD_indicators.csv',\n",
        "    'purpose_5_with_OD_indicators.csv',\n",
        "    'purpose_6_with_OD_indicators.csv',\n",
        "    'purpose_7_with_OD_indicators.csv'\n",
        "]\n",
        "\n",
        "# Combine files\n",
        "dfs = [pd.read_csv(os.path.join(folder, f)) for f in files]\n",
        "df = pd.concat(dfs, ignore_index=True)\n",
        "\n",
        "# Filter for O_Seoul==1, D_Seoul==1, and O_ADMDONG_CD != D_ADMDONG_CD\n",
        "df_seoul = df[\n",
        "    (df['O_Seoul'] == 1) &\n",
        "    (df['D_Seoul'] == 1) &\n",
        "    (df['O_ADMDONG_CD'] != df['D_ADMDONG_CD'])\n",
        "]\n",
        "\n",
        "# Total count for denominator\n",
        "total_cnt = df_seoul['CNT'].sum()\n",
        "\n",
        "# Numerator: sum of CNT by D_ADMDONG_CD\n",
        "numerator = df_seoul.groupby('D_ADMDONG_CD')['CNT'].sum()\n",
        "\n",
        "# Calculate Pull Effect as percentage\n",
        "pe_df = numerator.reset_index().rename(columns={'CNT': 'Numerator_CNT'})\n",
        "pe_df['PE_Seoul'] = (pe_df['Numerator_CNT'] / total_cnt) * 100\n",
        "\n",
        "# rename the PE column (Because we have different versions of PE)\n",
        "pe_df = pe_df.rename(columns={'PE_Seoul': 'PE1_Seoul'})\n",
        "# Save result (optional)\n",
        "pe_df.to_csv(os.path.join(folder, 'PE1_within_Seoul_to_Seoul_24567_btw_notsameOD.csv'), index=False)"
      ],
      "metadata": {
        "id": "0Ft03ThSIiYT",
        "cellView": "form"
      },
      "execution_count": null,
      "outputs": []
    },
    {
      "cell_type": "code",
      "source": [
        "#@title PE2: nonworking(24567) PE(Korea) (i != j)\n",
        "import pandas as pd\n",
        "import os\n",
        "\n",
        "folder = '/content/drive/MyDrive/FMC_Data/M-B_data_by_purpose_domestic_residents'\n",
        "files = [\n",
        "    'purpose_2_with_OD_indicators.csv',\n",
        "    'purpose_4_with_OD_indicators.csv',\n",
        "    'purpose_5_with_OD_indicators.csv',\n",
        "    'purpose_6_with_OD_indicators.csv',\n",
        "    'purpose_7_with_OD_indicators.csv'\n",
        "]\n",
        "\n",
        "# Combine files\n",
        "dfs = [pd.read_csv(os.path.join(folder, f)) for f in files]\n",
        "df = pd.concat(dfs, ignore_index=True)\n",
        "\n",
        "# Filter for D_Seoul==1, and O_ADMDONG_CD != D_ADMDONG_CD\n",
        "df_all_to_seoul = df[\n",
        "    (df['D_Seoul'] == 1) &\n",
        "    (df['O_ADMDONG_CD'] != df['D_ADMDONG_CD'])\n",
        "]\n",
        "\n",
        "# Total count for denominator\n",
        "total_cnt_PE2 = df_all_to_seoul['CNT'].sum()\n",
        "\n",
        "# Numerator: sum of CNT by D_ADMDONG_CD\n",
        "numerator_PE2 = df_all_to_seoul.groupby('D_ADMDONG_CD')['CNT'].sum()\n",
        "\n",
        "# Calculate Pull Effect as percentage\n",
        "pe2_df = numerator_PE2.reset_index().rename(columns={'CNT': 'Numerator_PE2_CNT'})\n",
        "pe2_df['PE_all_to_seoul'] = (pe2_df['Numerator_PE2_CNT'] / total_cnt_PE2) * 100\n",
        "\n",
        "# rename the PE column (Because we have different versions of PE)\n",
        "pe2_df = pe2_df.rename(columns={'PE_all_to_seoul': 'PE2_all_to_seoul'})\n",
        "# Save result (optional)\n",
        "pe2_df.to_csv(os.path.join(folder, 'PE2_all_to_seoul_24567_btw_notsameOD.csv'), index=False)"
      ],
      "metadata": {
        "id": "j0zwAeuYLgqA",
        "cellView": "form"
      },
      "execution_count": null,
      "outputs": []
    },
    {
      "cell_type": "code",
      "source": [
        "#@title PE3: nonworking(24567) PE(Seoul) (including i=j)\n",
        "import pandas as pd\n",
        "import os\n",
        "\n",
        "folder = '/content/drive/MyDrive/FMC_Data/M_B_dong_data_by_purpose_domestic_residents'\n",
        "files = [\n",
        "    'purpose_2_with_OD_indicators.csv',\n",
        "    'purpose_4_with_OD_indicators.csv',\n",
        "    'purpose_5_with_OD_indicators.csv',\n",
        "    'purpose_6_with_OD_indicators.csv',\n",
        "    'purpose_7_with_OD_indicators.csv'\n",
        "]\n",
        "\n",
        "# Combine files\n",
        "dfs = [pd.read_csv(os.path.join(folder, f)) for f in files]\n",
        "df = pd.concat(dfs, ignore_index=True)\n",
        "\n",
        "# Filter for O_Seoul==1, D_Seoul==1\n",
        "df_seoul = df[\n",
        "    (df['O_Seoul'] == 1) & (df['D_Seoul'] == 1)\n",
        "]\n",
        "\n",
        "# Total count for denominator\n",
        "total_cnt_PE3 = df_seoul['CNT'].sum()\n",
        "\n",
        "# Numerator: sum of CNT by D_ADMDONG_CD\n",
        "numerator_PE3 = df_seoul.groupby('D_ADMDONG_CD')['CNT'].sum()\n",
        "\n",
        "# Calculate Pull Effect as percentage\n",
        "pe3_df = numerator_PE3.reset_index().rename(columns={'CNT': 'Numerator_PE3_CNT'})\n",
        "pe3_df['PE_Seoul'] = (pe3_df['Numerator_PE3_CNT'] / total_cnt_PE3) * 100\n",
        "\n",
        "# rename the PE column (Because we have different versions of PE)\n",
        "pe3_df = pe3_df.rename(columns={'PE_Seoul': 'PE3_Seoul'})\n",
        "# Save result (optional)\n",
        "pe3_df.to_csv(os.path.join(folder, 'PE3_within_Seoul_to_Seoul_24567_including_all_OD.csv'), index=False)"
      ],
      "metadata": {
        "id": "lc2EnMc9xNmR"
      },
      "execution_count": null,
      "outputs": []
    },
    {
      "cell_type": "code",
      "source": [
        "# check the sum of PE3_Seoul\n",
        "print(pe3_df['PE3_Seoul'].sum())"
      ],
      "metadata": {
        "colab": {
          "base_uri": "https://localhost:8080/"
        },
        "id": "szQKdQduxT2U",
        "outputId": "61455976-4796-4981-f8b6-04205b98181d"
      },
      "execution_count": null,
      "outputs": [
        {
          "output_type": "stream",
          "name": "stdout",
          "text": [
            "99.99999999999983\n"
          ]
        }
      ]
    },
    {
      "cell_type": "code",
      "source": [
        "#@title PE4: nonworking(24567) PE(Korea) (including i=j)\n",
        "import pandas as pd\n",
        "import os\n",
        "\n",
        "folder = '/content/drive/MyDrive/FMC_Data/M-B_data_by_purpose_domestic_residents'\n",
        "files = [\n",
        "    'purpose_2_with_OD_indicators.csv',\n",
        "    'purpose_4_with_OD_indicators.csv',\n",
        "    'purpose_5_with_OD_indicators.csv',\n",
        "    'purpose_6_with_OD_indicators.csv',\n",
        "    'purpose_7_with_OD_indicators.csv'\n",
        "]\n",
        "\n",
        "# Combine files\n",
        "dfs = [pd.read_csv(os.path.join(folder, f)) for f in files]\n",
        "df = pd.concat(dfs, ignore_index=True)\n",
        "\n",
        "# Filter for D_Seoul==1\n",
        "df_seoul = df[(df['D_Seoul'] == 1)]\n",
        "\n",
        "# Total count for denominator\n",
        "total_cnt_PE4 = df_seoul['CNT'].sum()\n",
        "\n",
        "# Numerator: sum of CNT by D_ADMDONG_CD\n",
        "numerator_PE4 = df_seoul.groupby('D_ADMDONG_CD')['CNT'].sum()\n",
        "\n",
        "# Calculate Pull Effect as percentage\n",
        "pe4_df = numerator_PE4.reset_index().rename(columns={'CNT': 'Numerator_PE4_CNT'})\n",
        "pe4_df['PE_Seoul'] = (pe4_df['Numerator_PE4_CNT'] / total_cnt_PE4) * 100\n",
        "\n",
        "# rename the PE column (Because we have different versions of PE)\n",
        "pe4_df = pe4_df.rename(columns={'PE_Seoul': 'PE4_Seoul'})\n",
        "# Save result (optional)\n",
        "pe4_df.to_csv(os.path.join(folder, 'PE4_All_to_Seoul_24567_including_all_OD.csv'), index=False)"
      ],
      "metadata": {
        "id": "oAZbYiNpxTo2"
      },
      "execution_count": null,
      "outputs": []
    },
    {
      "cell_type": "code",
      "source": [
        "# check the sum of PE4_Seoul\n",
        "print(pe4_df['PE4_Seoul'].sum())"
      ],
      "metadata": {
        "colab": {
          "base_uri": "https://localhost:8080/"
        },
        "id": "GqyluBktywOn",
        "outputId": "18e57c28-1c0c-4d2e-93f0-58f273257bb8"
      },
      "execution_count": null,
      "outputs": [
        {
          "output_type": "stream",
          "name": "stdout",
          "text": [
            "99.99999999999994\n"
          ]
        }
      ]
    },
    {
      "cell_type": "code",
      "source": [],
      "metadata": {
        "id": "9x-4alnrznN8"
      },
      "execution_count": null,
      "outputs": []
    },
    {
      "cell_type": "code",
      "source": [
        "#@title PE5: working trip(1) PE(Seoul) (i!=j)\n",
        "import pandas as pd\n",
        "import os\n",
        "\n",
        "folder = '/content/drive/MyDrive/FMC_Data/M-B_data_by_purpose_domestic_residents'\n",
        "files = ['purpose_1_with_OD_indicators.csv']\n",
        "\n",
        "# Combine files\n",
        "dfs = [pd.read_csv(os.path.join(folder, f)) for f in files]\n",
        "df = pd.concat(dfs, ignore_index=True)\n",
        "\n",
        "# Filter for O_Seoul==1, D_Seoul==1, and O_ADMDONG_CD != D_ADMDONG_CD\n",
        "df_seoul = df[\n",
        "    (df['O_Seoul'] == 1) &\n",
        "    (df['D_Seoul'] == 1) &\n",
        "    (df['O_ADMDONG_CD'] != df['D_ADMDONG_CD'])\n",
        "]\n",
        "\n",
        "# Total count for denominator\n",
        "total_cnt = df_seoul['CNT'].sum()\n",
        "\n",
        "# Numerator: sum of CNT by D_ADMDONG_CD\n",
        "numerator = df_seoul.groupby('D_ADMDONG_CD')['CNT'].sum()\n",
        "\n",
        "# Calculate Pull Effect as percentage\n",
        "pe_df = numerator.reset_index().rename(columns={'CNT': 'Numerator_CNT'})\n",
        "pe_df['PE_Seoul'] = (pe_df['Numerator_CNT'] / total_cnt) * 100\n",
        "\n",
        "# rename the PE column (Because we have different versions of PE)\n",
        "pe_df = pe_df.rename(columns={'PE_Seoul': 'PE5_Seoul'})\n",
        "# Save result (optional)\n",
        "pe_df.to_csv(os.path.join(folder, 'PE5_within_Seoul_to_Seoul_1working_btw_notsameOD.csv'), index=False)"
      ],
      "metadata": {
        "id": "YEFsjZQ-0N2O"
      },
      "execution_count": null,
      "outputs": []
    },
    {
      "cell_type": "code",
      "source": [
        "# check the sum of PE5_Seoul\n",
        "print(pe_df['PE5_Seoul'].sum())"
      ],
      "metadata": {
        "colab": {
          "base_uri": "https://localhost:8080/"
        },
        "id": "9vliQptF2QZD",
        "outputId": "525f8d26-afc3-4da6-a9b6-17a4345960dc"
      },
      "execution_count": null,
      "outputs": [
        {
          "output_type": "stream",
          "name": "stdout",
          "text": [
            "99.99999999999996\n"
          ]
        }
      ]
    },
    {
      "cell_type": "code",
      "source": [
        "#@title PE6: working trip(1) PE(Korea) (i!=j)\n",
        "import pandas as pd\n",
        "import os\n",
        "\n",
        "folder = '/content/drive/MyDrive/FMC_Data/M-B_data_by_purpose_domestic_residents'\n",
        "files = ['purpose_1_with_OD_indicators.csv']\n",
        "\n",
        "# Combine files\n",
        "dfs = [pd.read_csv(os.path.join(folder, f)) for f in files]\n",
        "df = pd.concat(dfs, ignore_index=True)\n",
        "\n",
        "# Filter for D_Seoul==1, and O_ADMDONG_CD != D_ADMDONG_CD\n",
        "df_seoul = df[\n",
        "    (df['D_Seoul'] == 1) &\n",
        "    (df['O_ADMDONG_CD'] != df['D_ADMDONG_CD'])\n",
        "]\n",
        "\n",
        "# Total count for denominator\n",
        "total_cnt = df_seoul['CNT'].sum()\n",
        "\n",
        "# Numerator: sum of CNT by D_ADMDONG_CD\n",
        "numerator = df_seoul.groupby('D_ADMDONG_CD')['CNT'].sum()\n",
        "\n",
        "# Calculate Pull Effect as percentage\n",
        "pe_df = numerator.reset_index().rename(columns={'CNT': 'Numerator_CNT'})\n",
        "pe_df['PE_Seoul'] = (pe_df['Numerator_CNT'] / total_cnt) * 100\n",
        "\n",
        "# rename the PE column (Because we have different versions of PE)\n",
        "pe_df = pe_df.rename(columns={'PE_Seoul': 'PE6_Seoul'})\n",
        "# Save result (optional)\n",
        "pe_df.to_csv(os.path.join(folder, 'PE6_all_to_Seoul_1working_btw_notsameOD.csv'), index=False)"
      ],
      "metadata": {
        "id": "9BBapHl703IK"
      },
      "execution_count": null,
      "outputs": []
    },
    {
      "cell_type": "code",
      "source": [
        "# check the sum of PE6_Seoul\n",
        "print(pe_df['PE6_Seoul'].sum())"
      ],
      "metadata": {
        "colab": {
          "base_uri": "https://localhost:8080/"
        },
        "id": "dRFiO0Pz2wXA",
        "outputId": "ecfbfa6e-49a8-4f95-ed12-f20bfccf830e"
      },
      "execution_count": null,
      "outputs": [
        {
          "output_type": "stream",
          "name": "stdout",
          "text": [
            "99.99999999999996\n"
          ]
        }
      ]
    },
    {
      "cell_type": "code",
      "source": [
        "#@title PE7: working trip(1) PE(Seoul to Seoul) (including i=j)\n",
        "import pandas as pd\n",
        "import os\n",
        "\n",
        "folder = '/content/drive/MyDrive/FMC_Data/M-B_data_by_purpose_domestic_residents'\n",
        "files = ['purpose_1_with_OD_indicators.csv']\n",
        "\n",
        "# Combine files\n",
        "dfs = [pd.read_csv(os.path.join(folder, f)) for f in files]\n",
        "df = pd.concat(dfs, ignore_index=True)\n",
        "\n",
        "# Filter for O_Seoul == 1 & D_Seoul==1\n",
        "df_seoul = df[\n",
        "    (df['O_Seoul'] == 1) &\n",
        "    (df['D_Seoul'] == 1)\n",
        "]\n",
        "\n",
        "# Total count for denominator\n",
        "total_cnt = df_seoul['CNT'].sum()\n",
        "\n",
        "# Numerator: sum of CNT by D_ADMDONG_CD\n",
        "numerator = df_seoul.groupby('D_ADMDONG_CD')['CNT'].sum()\n",
        "\n",
        "# Calculate Pull Effect as percentage\n",
        "pe_df = numerator.reset_index().rename(columns={'CNT': 'Numerator_CNT'})\n",
        "pe_df['PE_Seoul'] = (pe_df['Numerator_CNT'] / total_cnt) * 100\n",
        "\n",
        "# rename the PE column (Because we have different versions of PE)\n",
        "pe_df = pe_df.rename(columns={'PE_Seoul': 'PE7_Seoul'})\n",
        "# Save result (optional)\n",
        "pe_df.to_csv(os.path.join(folder, 'PE7_Seoul_to_Seoul_1working_btw_allOD.csv'), index=False)"
      ],
      "metadata": {
        "id": "XbWEHG_Y07sL"
      },
      "execution_count": null,
      "outputs": []
    },
    {
      "cell_type": "code",
      "source": [
        "# check the sum of PE7_Seoul\n",
        "print(pe_df['PE7_Seoul'].sum())"
      ],
      "metadata": {
        "colab": {
          "base_uri": "https://localhost:8080/"
        },
        "id": "uAY4FROp29wi",
        "outputId": "74ab6559-cafb-449f-882c-47a167f480fb"
      },
      "execution_count": null,
      "outputs": [
        {
          "output_type": "stream",
          "name": "stdout",
          "text": [
            "100.0\n"
          ]
        }
      ]
    },
    {
      "cell_type": "code",
      "source": [
        "#@title PE8: working trip(1) PE(Korea to Seoul) (including i=j)\n",
        "import pandas as pd\n",
        "import os\n",
        "\n",
        "folder = '/content/drive/MyDrive/FMC_Data/M-B_data_by_purpose_domestic_residents'\n",
        "files = ['purpose_1_with_OD_indicators.csv']\n",
        "\n",
        "# Combine files\n",
        "dfs = [pd.read_csv(os.path.join(folder, f)) for f in files]\n",
        "df = pd.concat(dfs, ignore_index=True)\n",
        "\n",
        "# Filter for D_Seoul==1\n",
        "df_seoul = df[\n",
        "    (df['D_Seoul'] == 1)\n",
        "]\n",
        "\n",
        "# Total count for denominator\n",
        "total_cnt = df_seoul['CNT'].sum()\n",
        "\n",
        "# Numerator: sum of CNT by D_ADMDONG_CD\n",
        "numerator = df_seoul.groupby('D_ADMDONG_CD')['CNT'].sum()\n",
        "\n",
        "# Calculate Pull Effect as percentage\n",
        "pe_df = numerator.reset_index().rename(columns={'CNT': 'Numerator_CNT'})\n",
        "pe_df['PE_Seoul'] = (pe_df['Numerator_CNT'] / total_cnt) * 100\n",
        "\n",
        "# rename the PE column (Because we have different versions of PE)\n",
        "pe_df = pe_df.rename(columns={'PE_Seoul': 'PE8_Seoul'})\n",
        "# Save result (optional)\n",
        "pe_df.to_csv(os.path.join(folder, 'PE8_Seoul_to_Seoul_1working_btw_allOD.csv'), index=False)\n"
      ],
      "metadata": {
        "id": "wNU5mQt1089K"
      },
      "execution_count": null,
      "outputs": []
    },
    {
      "cell_type": "code",
      "source": [
        "# check the sum of PE7_Seoul\n",
        "print(pe_df['PE8_Seoul'].sum())"
      ],
      "metadata": {
        "colab": {
          "base_uri": "https://localhost:8080/"
        },
        "id": "N4n-_oVC3KZe",
        "outputId": "2d2c1a58-23dd-473e-861d-a843ac502303"
      },
      "execution_count": null,
      "outputs": [
        {
          "output_type": "stream",
          "name": "stdout",
          "text": [
            "100.00000000000007\n"
          ]
        }
      ]
    }
  ]
}